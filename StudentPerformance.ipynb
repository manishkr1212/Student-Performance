{
 "cells": [
  {
   "cell_type": "code",
   "execution_count": null,
   "id": "b8125a9a-5455-45f2-827f-76c77f4cf674",
   "metadata": {},
   "outputs": [],
   "source": [
    "# MANISH KUMAR 7:30 PM"
   ]
  },
  {
   "cell_type": "code",
   "execution_count": 1,
   "id": "cc83ab47-a999-4a5c-8f61-eebc47ac2fa4",
   "metadata": {},
   "outputs": [],
   "source": [
    "import numpy as np\n",
    "import pandas as pd\n",
    "import matplotlib.pyplot as plt\n",
    "import seaborn as sns\n",
    "import warnings\n",
    "warnings.filterwarnings('ignore')\n",
    "import scipy"
   ]
  },
  {
   "cell_type": "code",
   "execution_count": 2,
   "id": "b84efd65-17f5-4b0f-8299-db2737f1da2c",
   "metadata": {},
   "outputs": [
    {
     "data": {
      "text/html": [
       "<div>\n",
       "<style scoped>\n",
       "    .dataframe tbody tr th:only-of-type {\n",
       "        vertical-align: middle;\n",
       "    }\n",
       "\n",
       "    .dataframe tbody tr th {\n",
       "        vertical-align: top;\n",
       "    }\n",
       "\n",
       "    .dataframe thead th {\n",
       "        text-align: right;\n",
       "    }\n",
       "</style>\n",
       "<table border=\"1\" class=\"dataframe\">\n",
       "  <thead>\n",
       "    <tr style=\"text-align: right;\">\n",
       "      <th></th>\n",
       "      <th>Hours_Studied</th>\n",
       "      <th>Attendance</th>\n",
       "      <th>Parental_Involvement</th>\n",
       "      <th>Access_to_Resources</th>\n",
       "      <th>Extracurricular_Activities</th>\n",
       "      <th>Sleep_Hours</th>\n",
       "      <th>Previous_Scores</th>\n",
       "      <th>Motivation_Level</th>\n",
       "      <th>Internet_Access</th>\n",
       "      <th>Tutoring_Sessions</th>\n",
       "      <th>Family_Income</th>\n",
       "      <th>Teacher_Quality</th>\n",
       "      <th>School_Type</th>\n",
       "      <th>Peer_Influence</th>\n",
       "      <th>Physical_Activity</th>\n",
       "      <th>Learning_Disabilities</th>\n",
       "      <th>Parental_Education_Level</th>\n",
       "      <th>Distance_from_Home</th>\n",
       "      <th>Gender</th>\n",
       "      <th>Exam_Score</th>\n",
       "    </tr>\n",
       "  </thead>\n",
       "  <tbody>\n",
       "    <tr>\n",
       "      <th>0</th>\n",
       "      <td>23</td>\n",
       "      <td>84</td>\n",
       "      <td>Low</td>\n",
       "      <td>High</td>\n",
       "      <td>No</td>\n",
       "      <td>7</td>\n",
       "      <td>73</td>\n",
       "      <td>Low</td>\n",
       "      <td>Yes</td>\n",
       "      <td>0</td>\n",
       "      <td>Low</td>\n",
       "      <td>Medium</td>\n",
       "      <td>Public</td>\n",
       "      <td>Positive</td>\n",
       "      <td>3</td>\n",
       "      <td>No</td>\n",
       "      <td>High School</td>\n",
       "      <td>Near</td>\n",
       "      <td>Male</td>\n",
       "      <td>67</td>\n",
       "    </tr>\n",
       "    <tr>\n",
       "      <th>1</th>\n",
       "      <td>19</td>\n",
       "      <td>64</td>\n",
       "      <td>Low</td>\n",
       "      <td>Medium</td>\n",
       "      <td>No</td>\n",
       "      <td>8</td>\n",
       "      <td>59</td>\n",
       "      <td>Low</td>\n",
       "      <td>Yes</td>\n",
       "      <td>2</td>\n",
       "      <td>Medium</td>\n",
       "      <td>Medium</td>\n",
       "      <td>Public</td>\n",
       "      <td>Negative</td>\n",
       "      <td>4</td>\n",
       "      <td>No</td>\n",
       "      <td>College</td>\n",
       "      <td>Moderate</td>\n",
       "      <td>Female</td>\n",
       "      <td>61</td>\n",
       "    </tr>\n",
       "    <tr>\n",
       "      <th>2</th>\n",
       "      <td>24</td>\n",
       "      <td>98</td>\n",
       "      <td>Medium</td>\n",
       "      <td>Medium</td>\n",
       "      <td>Yes</td>\n",
       "      <td>7</td>\n",
       "      <td>91</td>\n",
       "      <td>Medium</td>\n",
       "      <td>Yes</td>\n",
       "      <td>2</td>\n",
       "      <td>Medium</td>\n",
       "      <td>Medium</td>\n",
       "      <td>Public</td>\n",
       "      <td>Neutral</td>\n",
       "      <td>4</td>\n",
       "      <td>No</td>\n",
       "      <td>Postgraduate</td>\n",
       "      <td>Near</td>\n",
       "      <td>Male</td>\n",
       "      <td>74</td>\n",
       "    </tr>\n",
       "    <tr>\n",
       "      <th>3</th>\n",
       "      <td>29</td>\n",
       "      <td>89</td>\n",
       "      <td>Low</td>\n",
       "      <td>Medium</td>\n",
       "      <td>Yes</td>\n",
       "      <td>8</td>\n",
       "      <td>98</td>\n",
       "      <td>Medium</td>\n",
       "      <td>Yes</td>\n",
       "      <td>1</td>\n",
       "      <td>Medium</td>\n",
       "      <td>Medium</td>\n",
       "      <td>Public</td>\n",
       "      <td>Negative</td>\n",
       "      <td>4</td>\n",
       "      <td>No</td>\n",
       "      <td>High School</td>\n",
       "      <td>Moderate</td>\n",
       "      <td>Male</td>\n",
       "      <td>71</td>\n",
       "    </tr>\n",
       "    <tr>\n",
       "      <th>4</th>\n",
       "      <td>19</td>\n",
       "      <td>92</td>\n",
       "      <td>Medium</td>\n",
       "      <td>Medium</td>\n",
       "      <td>Yes</td>\n",
       "      <td>6</td>\n",
       "      <td>65</td>\n",
       "      <td>Medium</td>\n",
       "      <td>Yes</td>\n",
       "      <td>3</td>\n",
       "      <td>Medium</td>\n",
       "      <td>High</td>\n",
       "      <td>Public</td>\n",
       "      <td>Neutral</td>\n",
       "      <td>4</td>\n",
       "      <td>No</td>\n",
       "      <td>College</td>\n",
       "      <td>Near</td>\n",
       "      <td>Female</td>\n",
       "      <td>70</td>\n",
       "    </tr>\n",
       "    <tr>\n",
       "      <th>...</th>\n",
       "      <td>...</td>\n",
       "      <td>...</td>\n",
       "      <td>...</td>\n",
       "      <td>...</td>\n",
       "      <td>...</td>\n",
       "      <td>...</td>\n",
       "      <td>...</td>\n",
       "      <td>...</td>\n",
       "      <td>...</td>\n",
       "      <td>...</td>\n",
       "      <td>...</td>\n",
       "      <td>...</td>\n",
       "      <td>...</td>\n",
       "      <td>...</td>\n",
       "      <td>...</td>\n",
       "      <td>...</td>\n",
       "      <td>...</td>\n",
       "      <td>...</td>\n",
       "      <td>...</td>\n",
       "      <td>...</td>\n",
       "    </tr>\n",
       "    <tr>\n",
       "      <th>6602</th>\n",
       "      <td>25</td>\n",
       "      <td>69</td>\n",
       "      <td>High</td>\n",
       "      <td>Medium</td>\n",
       "      <td>No</td>\n",
       "      <td>7</td>\n",
       "      <td>76</td>\n",
       "      <td>Medium</td>\n",
       "      <td>Yes</td>\n",
       "      <td>1</td>\n",
       "      <td>High</td>\n",
       "      <td>Medium</td>\n",
       "      <td>Public</td>\n",
       "      <td>Positive</td>\n",
       "      <td>2</td>\n",
       "      <td>No</td>\n",
       "      <td>High School</td>\n",
       "      <td>Near</td>\n",
       "      <td>Female</td>\n",
       "      <td>68</td>\n",
       "    </tr>\n",
       "    <tr>\n",
       "      <th>6603</th>\n",
       "      <td>23</td>\n",
       "      <td>76</td>\n",
       "      <td>High</td>\n",
       "      <td>Medium</td>\n",
       "      <td>No</td>\n",
       "      <td>8</td>\n",
       "      <td>81</td>\n",
       "      <td>Medium</td>\n",
       "      <td>Yes</td>\n",
       "      <td>3</td>\n",
       "      <td>Low</td>\n",
       "      <td>High</td>\n",
       "      <td>Public</td>\n",
       "      <td>Positive</td>\n",
       "      <td>2</td>\n",
       "      <td>No</td>\n",
       "      <td>High School</td>\n",
       "      <td>Near</td>\n",
       "      <td>Female</td>\n",
       "      <td>69</td>\n",
       "    </tr>\n",
       "    <tr>\n",
       "      <th>6604</th>\n",
       "      <td>20</td>\n",
       "      <td>90</td>\n",
       "      <td>Medium</td>\n",
       "      <td>Low</td>\n",
       "      <td>Yes</td>\n",
       "      <td>6</td>\n",
       "      <td>65</td>\n",
       "      <td>Low</td>\n",
       "      <td>Yes</td>\n",
       "      <td>3</td>\n",
       "      <td>Low</td>\n",
       "      <td>Medium</td>\n",
       "      <td>Public</td>\n",
       "      <td>Negative</td>\n",
       "      <td>2</td>\n",
       "      <td>No</td>\n",
       "      <td>Postgraduate</td>\n",
       "      <td>Near</td>\n",
       "      <td>Female</td>\n",
       "      <td>68</td>\n",
       "    </tr>\n",
       "    <tr>\n",
       "      <th>6605</th>\n",
       "      <td>10</td>\n",
       "      <td>86</td>\n",
       "      <td>High</td>\n",
       "      <td>High</td>\n",
       "      <td>Yes</td>\n",
       "      <td>6</td>\n",
       "      <td>91</td>\n",
       "      <td>High</td>\n",
       "      <td>Yes</td>\n",
       "      <td>2</td>\n",
       "      <td>Low</td>\n",
       "      <td>Medium</td>\n",
       "      <td>Private</td>\n",
       "      <td>Positive</td>\n",
       "      <td>3</td>\n",
       "      <td>No</td>\n",
       "      <td>High School</td>\n",
       "      <td>Far</td>\n",
       "      <td>Female</td>\n",
       "      <td>68</td>\n",
       "    </tr>\n",
       "    <tr>\n",
       "      <th>6606</th>\n",
       "      <td>15</td>\n",
       "      <td>67</td>\n",
       "      <td>Medium</td>\n",
       "      <td>Low</td>\n",
       "      <td>Yes</td>\n",
       "      <td>9</td>\n",
       "      <td>94</td>\n",
       "      <td>Medium</td>\n",
       "      <td>Yes</td>\n",
       "      <td>0</td>\n",
       "      <td>Medium</td>\n",
       "      <td>Medium</td>\n",
       "      <td>Public</td>\n",
       "      <td>Positive</td>\n",
       "      <td>4</td>\n",
       "      <td>No</td>\n",
       "      <td>Postgraduate</td>\n",
       "      <td>Near</td>\n",
       "      <td>Male</td>\n",
       "      <td>64</td>\n",
       "    </tr>\n",
       "  </tbody>\n",
       "</table>\n",
       "<p>6607 rows × 20 columns</p>\n",
       "</div>"
      ],
      "text/plain": [
       "      Hours_Studied  Attendance Parental_Involvement Access_to_Resources  \\\n",
       "0                23          84                  Low                High   \n",
       "1                19          64                  Low              Medium   \n",
       "2                24          98               Medium              Medium   \n",
       "3                29          89                  Low              Medium   \n",
       "4                19          92               Medium              Medium   \n",
       "...             ...         ...                  ...                 ...   \n",
       "6602             25          69                 High              Medium   \n",
       "6603             23          76                 High              Medium   \n",
       "6604             20          90               Medium                 Low   \n",
       "6605             10          86                 High                High   \n",
       "6606             15          67               Medium                 Low   \n",
       "\n",
       "     Extracurricular_Activities  Sleep_Hours  Previous_Scores  \\\n",
       "0                            No            7               73   \n",
       "1                            No            8               59   \n",
       "2                           Yes            7               91   \n",
       "3                           Yes            8               98   \n",
       "4                           Yes            6               65   \n",
       "...                         ...          ...              ...   \n",
       "6602                         No            7               76   \n",
       "6603                         No            8               81   \n",
       "6604                        Yes            6               65   \n",
       "6605                        Yes            6               91   \n",
       "6606                        Yes            9               94   \n",
       "\n",
       "     Motivation_Level Internet_Access  Tutoring_Sessions Family_Income  \\\n",
       "0                 Low             Yes                  0           Low   \n",
       "1                 Low             Yes                  2        Medium   \n",
       "2              Medium             Yes                  2        Medium   \n",
       "3              Medium             Yes                  1        Medium   \n",
       "4              Medium             Yes                  3        Medium   \n",
       "...               ...             ...                ...           ...   \n",
       "6602           Medium             Yes                  1          High   \n",
       "6603           Medium             Yes                  3           Low   \n",
       "6604              Low             Yes                  3           Low   \n",
       "6605             High             Yes                  2           Low   \n",
       "6606           Medium             Yes                  0        Medium   \n",
       "\n",
       "     Teacher_Quality School_Type Peer_Influence  Physical_Activity  \\\n",
       "0             Medium      Public       Positive                  3   \n",
       "1             Medium      Public       Negative                  4   \n",
       "2             Medium      Public        Neutral                  4   \n",
       "3             Medium      Public       Negative                  4   \n",
       "4               High      Public        Neutral                  4   \n",
       "...              ...         ...            ...                ...   \n",
       "6602          Medium      Public       Positive                  2   \n",
       "6603            High      Public       Positive                  2   \n",
       "6604          Medium      Public       Negative                  2   \n",
       "6605          Medium     Private       Positive                  3   \n",
       "6606          Medium      Public       Positive                  4   \n",
       "\n",
       "     Learning_Disabilities Parental_Education_Level Distance_from_Home  \\\n",
       "0                       No              High School               Near   \n",
       "1                       No                  College           Moderate   \n",
       "2                       No             Postgraduate               Near   \n",
       "3                       No              High School           Moderate   \n",
       "4                       No                  College               Near   \n",
       "...                    ...                      ...                ...   \n",
       "6602                    No              High School               Near   \n",
       "6603                    No              High School               Near   \n",
       "6604                    No             Postgraduate               Near   \n",
       "6605                    No              High School                Far   \n",
       "6606                    No             Postgraduate               Near   \n",
       "\n",
       "      Gender  Exam_Score  \n",
       "0       Male          67  \n",
       "1     Female          61  \n",
       "2       Male          74  \n",
       "3       Male          71  \n",
       "4     Female          70  \n",
       "...      ...         ...  \n",
       "6602  Female          68  \n",
       "6603  Female          69  \n",
       "6604  Female          68  \n",
       "6605  Female          68  \n",
       "6606    Male          64  \n",
       "\n",
       "[6607 rows x 20 columns]"
      ]
     },
     "execution_count": 2,
     "metadata": {},
     "output_type": "execute_result"
    }
   ],
   "source": [
    "df=pd.read_csv(\"StudentPerformance.csv\")\n",
    "df"
   ]
  },
  {
   "cell_type": "markdown",
   "id": "5407709e-fbc2-46cf-9834-726c2cd739fe",
   "metadata": {},
   "source": [
    "# steps1 Business problem undersranding"
   ]
  },
  {
   "cell_type": "code",
   "execution_count": 4,
   "id": "6a09d03f-d83e-4ceb-94cc-f2325e559e3d",
   "metadata": {},
   "outputs": [],
   "source": [
    "# To improve the Student performance in the examination"
   ]
  },
  {
   "cell_type": "markdown",
   "id": "be3f4227-62e1-4dd3-bac5-eb5e12c2c78a",
   "metadata": {},
   "source": [
    "# steps2 data understanding and exploration"
   ]
  },
  {
   "cell_type": "code",
   "execution_count": 21,
   "id": "fd241985-c08a-43ca-a6e4-1aa492a1f008",
   "metadata": {},
   "outputs": [
    {
     "data": {
      "text/plain": [
       "['Hours_Studied',\n",
       " 'Attendance',\n",
       " 'Parental_Involvement',\n",
       " 'Access_to_Resources',\n",
       " 'Extracurricular_Activities',\n",
       " 'Sleep_Hours',\n",
       " 'Previous_Scores',\n",
       " 'Motivation_Level',\n",
       " 'Internet_Access',\n",
       " 'Tutoring_Sessions',\n",
       " 'Family_Income',\n",
       " 'Teacher_Quality',\n",
       " 'School_Type',\n",
       " 'Peer_Influence',\n",
       " 'Physical_Activity',\n",
       " 'Learning_Disabilities',\n",
       " 'Parental_Education_Level',\n",
       " 'Distance_from_Home',\n",
       " 'Gender',\n",
       " 'Exam_Score']"
      ]
     },
     "execution_count": 21,
     "metadata": {},
     "output_type": "execute_result"
    }
   ],
   "source": [
    "df.columns.to_list()"
   ]
  },
  {
   "cell_type": "code",
   "execution_count": 23,
   "id": "f9af9ecc-e5fa-461c-b34d-555f17cfd3d1",
   "metadata": {},
   "outputs": [
    {
     "name": "stdout",
     "output_type": "stream",
     "text": [
      "<class 'pandas.core.frame.DataFrame'>\n",
      "RangeIndex: 6607 entries, 0 to 6606\n",
      "Data columns (total 20 columns):\n",
      " #   Column                      Non-Null Count  Dtype \n",
      "---  ------                      --------------  ----- \n",
      " 0   Hours_Studied               6607 non-null   int64 \n",
      " 1   Attendance                  6607 non-null   int64 \n",
      " 2   Parental_Involvement        6607 non-null   object\n",
      " 3   Access_to_Resources         6607 non-null   object\n",
      " 4   Extracurricular_Activities  6607 non-null   object\n",
      " 5   Sleep_Hours                 6607 non-null   int64 \n",
      " 6   Previous_Scores             6607 non-null   int64 \n",
      " 7   Motivation_Level            6607 non-null   object\n",
      " 8   Internet_Access             6607 non-null   object\n",
      " 9   Tutoring_Sessions           6607 non-null   int64 \n",
      " 10  Family_Income               6607 non-null   object\n",
      " 11  Teacher_Quality             6529 non-null   object\n",
      " 12  School_Type                 6607 non-null   object\n",
      " 13  Peer_Influence              6607 non-null   object\n",
      " 14  Physical_Activity           6607 non-null   int64 \n",
      " 15  Learning_Disabilities       6607 non-null   object\n",
      " 16  Parental_Education_Level    6517 non-null   object\n",
      " 17  Distance_from_Home          6540 non-null   object\n",
      " 18  Gender                      6607 non-null   object\n",
      " 19  Exam_Score                  6607 non-null   int64 \n",
      "dtypes: int64(7), object(13)\n",
      "memory usage: 1.0+ MB\n"
     ]
    }
   ],
   "source": [
    "df.info()"
   ]
  },
  {
   "cell_type": "code",
   "execution_count": 11,
   "id": "431d2a40-8218-4572-9424-fc2d61144bdf",
   "metadata": {},
   "outputs": [
    {
     "data": {
      "text/plain": [
       "(6607, 20)"
      ]
     },
     "execution_count": 11,
     "metadata": {},
     "output_type": "execute_result"
    }
   ],
   "source": [
    "df.shape"
   ]
  },
  {
   "cell_type": "code",
   "execution_count": 13,
   "id": "b7496495-4600-4942-b43f-5e2cdfa78972",
   "metadata": {},
   "outputs": [
    {
     "data": {
      "text/plain": [
       "Hours_Studied                  int64\n",
       "Attendance                     int64\n",
       "Parental_Involvement          object\n",
       "Access_to_Resources           object\n",
       "Extracurricular_Activities    object\n",
       "Sleep_Hours                    int64\n",
       "Previous_Scores                int64\n",
       "Motivation_Level              object\n",
       "Internet_Access               object\n",
       "Tutoring_Sessions              int64\n",
       "Family_Income                 object\n",
       "Teacher_Quality               object\n",
       "School_Type                   object\n",
       "Peer_Influence                object\n",
       "Physical_Activity              int64\n",
       "Learning_Disabilities         object\n",
       "Parental_Education_Level      object\n",
       "Distance_from_Home            object\n",
       "Gender                        object\n",
       "Exam_Score                     int64\n",
       "dtype: object"
      ]
     },
     "execution_count": 13,
     "metadata": {},
     "output_type": "execute_result"
    }
   ],
   "source": [
    "df.dtypes"
   ]
  },
  {
   "cell_type": "code",
   "execution_count": 15,
   "id": "1343af97-2429-49b0-99e6-0eb8c1cbb5c8",
   "metadata": {},
   "outputs": [
    {
     "data": {
      "text/plain": [
       "Hours_Studied                  0\n",
       "Attendance                     0\n",
       "Parental_Involvement           0\n",
       "Access_to_Resources            0\n",
       "Extracurricular_Activities     0\n",
       "Sleep_Hours                    0\n",
       "Previous_Scores                0\n",
       "Motivation_Level               0\n",
       "Internet_Access                0\n",
       "Tutoring_Sessions              0\n",
       "Family_Income                  0\n",
       "Teacher_Quality               78\n",
       "School_Type                    0\n",
       "Peer_Influence                 0\n",
       "Physical_Activity              0\n",
       "Learning_Disabilities          0\n",
       "Parental_Education_Level      90\n",
       "Distance_from_Home            67\n",
       "Gender                         0\n",
       "Exam_Score                     0\n",
       "dtype: int64"
      ]
     },
     "execution_count": 15,
     "metadata": {},
     "output_type": "execute_result"
    }
   ],
   "source": [
    "df.isnull().sum()"
   ]
  },
  {
   "cell_type": "markdown",
   "id": "62d57139-44a8-4e45-a17d-123a6761e253",
   "metadata": {},
   "source": [
    "# explore column wise"
   ]
  },
  {
   "cell_type": "markdown",
   "id": "fc15ef66-5d08-4396-8f12-a2dac259cde5",
   "metadata": {},
   "source": [
    "# Hours_Studied"
   ]
  },
  {
   "cell_type": "code",
   "execution_count": 13,
   "id": "d9ce2d37-b1a3-4a52-b9f9-2421925d62a7",
   "metadata": {},
   "outputs": [],
   "source": [
    "# this coulums is continous variable and correct data type & there is no null value"
   ]
  },
  {
   "cell_type": "code",
   "execution_count": 7,
   "id": "68d4d18f-4944-415f-a550-d3b4405ba044",
   "metadata": {},
   "outputs": [
    {
     "data": {
      "text/html": [
       "<div>\n",
       "<style scoped>\n",
       "    .dataframe tbody tr th:only-of-type {\n",
       "        vertical-align: middle;\n",
       "    }\n",
       "\n",
       "    .dataframe tbody tr th {\n",
       "        vertical-align: top;\n",
       "    }\n",
       "\n",
       "    .dataframe thead th {\n",
       "        text-align: right;\n",
       "    }\n",
       "</style>\n",
       "<table border=\"1\" class=\"dataframe\">\n",
       "  <thead>\n",
       "    <tr style=\"text-align: right;\">\n",
       "      <th></th>\n",
       "      <th>Studied_Hours</th>\n",
       "      <th>Attendance</th>\n",
       "      <th>Parental_Involvement</th>\n",
       "      <th>Access_to_Resources</th>\n",
       "      <th>Extracurricular_Activities</th>\n",
       "      <th>Sleep_Hours</th>\n",
       "      <th>Previous_Scores</th>\n",
       "      <th>Motivation_Level</th>\n",
       "      <th>Internet_Access</th>\n",
       "      <th>Tutoring_Sessions</th>\n",
       "      <th>Family_Income</th>\n",
       "      <th>Teacher_Quality</th>\n",
       "      <th>School_Type</th>\n",
       "      <th>Peer_Influence</th>\n",
       "      <th>Physical_Activity</th>\n",
       "      <th>Learning_Disabilities</th>\n",
       "      <th>Parental_Education_Level</th>\n",
       "      <th>Distance_from_Home</th>\n",
       "      <th>Gender</th>\n",
       "      <th>Exam_Score</th>\n",
       "    </tr>\n",
       "  </thead>\n",
       "  <tbody>\n",
       "    <tr>\n",
       "      <th>0</th>\n",
       "      <td>23</td>\n",
       "      <td>84</td>\n",
       "      <td>Low</td>\n",
       "      <td>High</td>\n",
       "      <td>No</td>\n",
       "      <td>7</td>\n",
       "      <td>73</td>\n",
       "      <td>Low</td>\n",
       "      <td>Yes</td>\n",
       "      <td>0</td>\n",
       "      <td>Low</td>\n",
       "      <td>Medium</td>\n",
       "      <td>Public</td>\n",
       "      <td>Positive</td>\n",
       "      <td>3</td>\n",
       "      <td>No</td>\n",
       "      <td>High School</td>\n",
       "      <td>Near</td>\n",
       "      <td>Male</td>\n",
       "      <td>67</td>\n",
       "    </tr>\n",
       "    <tr>\n",
       "      <th>1</th>\n",
       "      <td>19</td>\n",
       "      <td>64</td>\n",
       "      <td>Low</td>\n",
       "      <td>Medium</td>\n",
       "      <td>No</td>\n",
       "      <td>8</td>\n",
       "      <td>59</td>\n",
       "      <td>Low</td>\n",
       "      <td>Yes</td>\n",
       "      <td>2</td>\n",
       "      <td>Medium</td>\n",
       "      <td>Medium</td>\n",
       "      <td>Public</td>\n",
       "      <td>Negative</td>\n",
       "      <td>4</td>\n",
       "      <td>No</td>\n",
       "      <td>College</td>\n",
       "      <td>Moderate</td>\n",
       "      <td>Female</td>\n",
       "      <td>61</td>\n",
       "    </tr>\n",
       "  </tbody>\n",
       "</table>\n",
       "</div>"
      ],
      "text/plain": [
       "   Studied_Hours  Attendance Parental_Involvement Access_to_Resources  \\\n",
       "0             23          84                  Low                High   \n",
       "1             19          64                  Low              Medium   \n",
       "\n",
       "  Extracurricular_Activities  Sleep_Hours  Previous_Scores Motivation_Level  \\\n",
       "0                         No            7               73              Low   \n",
       "1                         No            8               59              Low   \n",
       "\n",
       "  Internet_Access  Tutoring_Sessions Family_Income Teacher_Quality  \\\n",
       "0             Yes                  0           Low          Medium   \n",
       "1             Yes                  2        Medium          Medium   \n",
       "\n",
       "  School_Type Peer_Influence  Physical_Activity Learning_Disabilities  \\\n",
       "0      Public       Positive                  3                    No   \n",
       "1      Public       Negative                  4                    No   \n",
       "\n",
       "  Parental_Education_Level Distance_from_Home  Gender  Exam_Score  \n",
       "0              High School               Near    Male          67  \n",
       "1                  College           Moderate  Female          61  "
      ]
     },
     "execution_count": 7,
     "metadata": {},
     "output_type": "execute_result"
    }
   ],
   "source": [
    "df.rename(columns={\"Hours_Studied\":\"Studied_Hours\"},inplace=True)\n",
    "df.head(2)"
   ]
  },
  {
   "cell_type": "code",
   "execution_count": 7,
   "id": "7b829768-8e17-4206-bfb0-1ed8506249a6",
   "metadata": {},
   "outputs": [
    {
     "data": {
      "text/plain": [
       "0"
      ]
     },
     "execution_count": 7,
     "metadata": {},
     "output_type": "execute_result"
    }
   ],
   "source": [
    "df[\"Studied_Hours\"].isnull().sum()"
   ]
  },
  {
   "cell_type": "code",
   "execution_count": 30,
   "id": "a40a8faf-4c5d-4bce-8000-4c496b2fd4be",
   "metadata": {},
   "outputs": [
    {
     "data": {
      "text/plain": [
       "dtype('int64')"
      ]
     },
     "execution_count": 30,
     "metadata": {},
     "output_type": "execute_result"
    }
   ],
   "source": [
    "df[\"Studied_Hours\"].dtypes"
   ]
  },
  {
   "cell_type": "code",
   "execution_count": 21,
   "id": "a1c58806-834c-45ae-99f4-512935d675e5",
   "metadata": {},
   "outputs": [
    {
     "data": {
      "text/plain": [
       "['Parental_Involvement',\n",
       " 'Access_to_Resources',\n",
       " 'Extracurricular_Activities',\n",
       " 'Motivation_Level',\n",
       " 'Internet_Access',\n",
       " 'Family_Income',\n",
       " 'Teacher_Quality',\n",
       " 'School_Type',\n",
       " 'Peer_Influence',\n",
       " 'Learning_Disabilities',\n",
       " 'Parental_Education_Level',\n",
       " 'Distance_from_Home',\n",
       " 'Gender']"
      ]
     },
     "execution_count": 21,
     "metadata": {},
     "output_type": "execute_result"
    }
   ],
   "source": [
    "discrete=df.select_dtypes(include=\"object\").columns\n",
    "discrete.tolist()"
   ]
  },
  {
   "cell_type": "markdown",
   "id": "021abc05-d9d6-4cbe-a0d5-871f17c8f88d",
   "metadata": {},
   "source": [
    "# Attendence"
   ]
  },
  {
   "cell_type": "code",
   "execution_count": null,
   "id": "2fe0a784-09cd-4c03-b504-a396b20926b6",
   "metadata": {},
   "outputs": [],
   "source": [
    "# this is continous variable& correct data type & there is no null value &\n",
    "# columns name is correct."
   ]
  },
  {
   "cell_type": "code",
   "execution_count": 9,
   "id": "23a5791d-c03f-4100-b9a2-673fd01e3274",
   "metadata": {},
   "outputs": [
    {
     "data": {
      "text/plain": [
       "dtype('int64')"
      ]
     },
     "execution_count": 9,
     "metadata": {},
     "output_type": "execute_result"
    }
   ],
   "source": [
    "df[\"Attendance\"].dtypes"
   ]
  },
  {
   "cell_type": "code",
   "execution_count": 11,
   "id": "c5752384-05fb-4e47-b60b-4b1fa1988807",
   "metadata": {},
   "outputs": [
    {
     "data": {
      "text/plain": [
       "0"
      ]
     },
     "execution_count": 11,
     "metadata": {},
     "output_type": "execute_result"
    }
   ],
   "source": [
    "df[\"Attendance\"].isnull().sum()"
   ]
  },
  {
   "cell_type": "markdown",
   "id": "ef562ba9-4dbb-415c-adbc-82f3ba36421b",
   "metadata": {},
   "source": [
    "# \tParental_Involvement"
   ]
  },
  {
   "cell_type": "code",
   "execution_count": null,
   "id": "2ba99f98-639e-4c34-a0d2-365f28fc59a0",
   "metadata": {},
   "outputs": [],
   "source": [
    "# this is discrete variable & correct data type & there is no null value & columns name  corr.\n",
    "# there is 3 unique value(low,medium, high)\n",
    "# medium value more then this two value and low value is too less "
   ]
  },
  {
   "cell_type": "code",
   "execution_count": 13,
   "id": "b96aa21f-bba2-4edc-8f40-8ffd014eb6d7",
   "metadata": {},
   "outputs": [
    {
     "data": {
      "text/plain": [
       "dtype('O')"
      ]
     },
     "execution_count": 13,
     "metadata": {},
     "output_type": "execute_result"
    }
   ],
   "source": [
    "df[\"Parental_Involvement\"].dtypes"
   ]
  },
  {
   "cell_type": "code",
   "execution_count": 15,
   "id": "70eeeb59-9218-492f-9634-988499be5c5d",
   "metadata": {},
   "outputs": [
    {
     "data": {
      "text/plain": [
       "0"
      ]
     },
     "execution_count": 15,
     "metadata": {},
     "output_type": "execute_result"
    }
   ],
   "source": [
    "df[\"Parental_Involvement\"].isnull().sum()"
   ]
  },
  {
   "cell_type": "code",
   "execution_count": 27,
   "id": "89695844-a61d-4cea-8a4b-ce5d4c5c3a6f",
   "metadata": {},
   "outputs": [
    {
     "data": {
      "text/plain": [
       "array(['Low', 'Medium', 'High'], dtype=object)"
      ]
     },
     "execution_count": 27,
     "metadata": {},
     "output_type": "execute_result"
    }
   ],
   "source": [
    "df[\"Parental_Involvement\"].unique()"
   ]
  },
  {
   "cell_type": "code",
   "execution_count": 29,
   "id": "4ac5d77c-756c-4290-aaf0-29e0c6241909",
   "metadata": {},
   "outputs": [
    {
     "data": {
      "text/plain": [
       "Parental_Involvement\n",
       "Medium    3362\n",
       "High      1908\n",
       "Low       1337\n",
       "Name: count, dtype: int64"
      ]
     },
     "execution_count": 29,
     "metadata": {},
     "output_type": "execute_result"
    }
   ],
   "source": [
    "df[\"Parental_Involvement\"].value_counts()"
   ]
  },
  {
   "cell_type": "markdown",
   "id": "2a96de35-31aa-410b-a7c7-ea6db93a9187",
   "metadata": {},
   "source": [
    "# Access_to_Resources"
   ]
  },
  {
   "cell_type": "code",
   "execution_count": null,
   "id": "66b557d2-9f19-4b6e-8f93-ea958f28e0be",
   "metadata": {},
   "outputs": [],
   "source": [
    "# this is a discrete  variable and correct data types and there is no null value\n",
    "# there is 3 unique value (low,medium and high) meduem value is more & low value is less"
   ]
  },
  {
   "cell_type": "code",
   "execution_count": 31,
   "id": "c30b64c9-2b0e-4dba-a179-65da2feada73",
   "metadata": {},
   "outputs": [
    {
     "data": {
      "text/plain": [
       "dtype('O')"
      ]
     },
     "execution_count": 31,
     "metadata": {},
     "output_type": "execute_result"
    }
   ],
   "source": [
    "df[\"Access_to_Resources\"].dtypes"
   ]
  },
  {
   "cell_type": "code",
   "execution_count": 33,
   "id": "0d08c767-0f0d-43b5-8390-d831066c75d7",
   "metadata": {},
   "outputs": [
    {
     "data": {
      "text/plain": [
       "0"
      ]
     },
     "execution_count": 33,
     "metadata": {},
     "output_type": "execute_result"
    }
   ],
   "source": [
    "df[\"Access_to_Resources\"].isnull().sum()"
   ]
  },
  {
   "cell_type": "code",
   "execution_count": 35,
   "id": "558eb03a-2e9b-457f-b535-45c50638695a",
   "metadata": {},
   "outputs": [
    {
     "data": {
      "text/plain": [
       "array(['High', 'Medium', 'Low'], dtype=object)"
      ]
     },
     "execution_count": 35,
     "metadata": {},
     "output_type": "execute_result"
    }
   ],
   "source": [
    "df[\"Access_to_Resources\"].unique()"
   ]
  },
  {
   "cell_type": "code",
   "execution_count": 37,
   "id": "b3c26b53-c79c-481e-8ca1-e4f73f071fba",
   "metadata": {},
   "outputs": [
    {
     "data": {
      "text/plain": [
       "Access_to_Resources\n",
       "Medium    3319\n",
       "High      1975\n",
       "Low       1313\n",
       "Name: count, dtype: int64"
      ]
     },
     "execution_count": 37,
     "metadata": {},
     "output_type": "execute_result"
    }
   ],
   "source": [
    "df[\"Access_to_Resources\"].value_counts()"
   ]
  },
  {
   "cell_type": "markdown",
   "id": "1db34aaf-840c-4d50-a347-f760cc847ecd",
   "metadata": {},
   "source": [
    "#  Extracurricular_Activities"
   ]
  },
  {
   "cell_type": "code",
   "execution_count": null,
   "id": "ebc6ff3f-726c-419c-8594-b52109ad6ebc",
   "metadata": {},
   "outputs": [],
   "source": [
    "# this is discerete variable and correct data types & there is no null value\n",
    "# there is 2 unique value (yes and no) yes>no"
   ]
  },
  {
   "cell_type": "code",
   "execution_count": 113,
   "id": "cc27710f-6bbf-4b35-87c6-8b520c1d272e",
   "metadata": {},
   "outputs": [
    {
     "data": {
      "text/plain": [
       "dtype('O')"
      ]
     },
     "execution_count": 113,
     "metadata": {},
     "output_type": "execute_result"
    }
   ],
   "source": [
    "df[\"Extracurricular_Activities\"].dtypes"
   ]
  },
  {
   "cell_type": "code",
   "execution_count": 115,
   "id": "a1a5c9b8-8832-4aff-b54f-ed8495b7a226",
   "metadata": {},
   "outputs": [
    {
     "data": {
      "text/plain": [
       "0"
      ]
     },
     "execution_count": 115,
     "metadata": {},
     "output_type": "execute_result"
    }
   ],
   "source": [
    "df[\"Extracurricular_Activities\"].isnull().sum()"
   ]
  },
  {
   "cell_type": "code",
   "execution_count": 117,
   "id": "1b017ab7-ccb7-442a-a1e3-e55d637e9cdb",
   "metadata": {},
   "outputs": [
    {
     "data": {
      "text/plain": [
       "array(['No', 'Yes'], dtype=object)"
      ]
     },
     "execution_count": 117,
     "metadata": {},
     "output_type": "execute_result"
    }
   ],
   "source": [
    "df[\"Extracurricular_Activities\"].unique()"
   ]
  },
  {
   "cell_type": "code",
   "execution_count": 119,
   "id": "8299ce58-71f1-4dee-9b8a-5e4027843516",
   "metadata": {},
   "outputs": [
    {
     "data": {
      "text/plain": [
       "Extracurricular_Activities\n",
       "Yes    3938\n",
       "No     2669\n",
       "Name: count, dtype: int64"
      ]
     },
     "execution_count": 119,
     "metadata": {},
     "output_type": "execute_result"
    }
   ],
   "source": [
    "df[\"Extracurricular_Activities\"].value_counts()"
   ]
  },
  {
   "cell_type": "markdown",
   "id": "78ee81a6-3e25-4805-82fd-88c60a0bfe17",
   "metadata": {},
   "source": [
    "# Sleep_Hours"
   ]
  },
  {
   "cell_type": "code",
   "execution_count": null,
   "id": "74bb53c1-ea7c-48a3-8df1-7cbd7924f1d7",
   "metadata": {},
   "outputs": [],
   "source": [
    "# this is continous variable and correct data types & there is no null value\n"
   ]
  },
  {
   "cell_type": "code",
   "execution_count": 121,
   "id": "a9ba5cc6-b0dd-4f91-b055-873ee8157f0c",
   "metadata": {},
   "outputs": [
    {
     "data": {
      "text/plain": [
       "dtype('int64')"
      ]
     },
     "execution_count": 121,
     "metadata": {},
     "output_type": "execute_result"
    }
   ],
   "source": [
    "df[\"Sleep_Hours\"].dtypes"
   ]
  },
  {
   "cell_type": "code",
   "execution_count": 127,
   "id": "b7d0e190-a50e-4d9a-a347-494d433db3b0",
   "metadata": {},
   "outputs": [
    {
     "data": {
      "text/plain": [
       "0"
      ]
     },
     "execution_count": 127,
     "metadata": {},
     "output_type": "execute_result"
    }
   ],
   "source": [
    "df[\"Sleep_Hours\"].isnull().sum()"
   ]
  },
  {
   "cell_type": "markdown",
   "id": "3ab5c145-d60f-48eb-8bb4-5ffdda4579f2",
   "metadata": {},
   "source": [
    "# Previous_Scores"
   ]
  },
  {
   "cell_type": "code",
   "execution_count": null,
   "id": "e7cde0ee-e5c6-4991-8dea-9c91628430da",
   "metadata": {},
   "outputs": [],
   "source": [
    "# this is continous variable and correct data types & there is no null value"
   ]
  },
  {
   "cell_type": "code",
   "execution_count": 129,
   "id": "72e1825b-02c4-4144-a34a-fa34058a3c6a",
   "metadata": {},
   "outputs": [
    {
     "data": {
      "text/plain": [
       "dtype('int64')"
      ]
     },
     "execution_count": 129,
     "metadata": {},
     "output_type": "execute_result"
    }
   ],
   "source": [
    "df[\"Previous_Scores\"].dtypes"
   ]
  },
  {
   "cell_type": "code",
   "execution_count": 32,
   "id": "9d59da58-c1be-40cd-8378-c5cf0aeb1320",
   "metadata": {},
   "outputs": [
    {
     "data": {
      "text/plain": [
       "0"
      ]
     },
     "execution_count": 32,
     "metadata": {},
     "output_type": "execute_result"
    }
   ],
   "source": [
    "df[\"Previous_Scores\"].isnull().sum()"
   ]
  },
  {
   "cell_type": "markdown",
   "id": "c514cab4-4f8c-4077-aefe-1cb64d1b503e",
   "metadata": {},
   "source": [
    "# Motivation_Level"
   ]
  },
  {
   "cell_type": "code",
   "execution_count": null,
   "id": "899fcba2-e314-4250-8c11-6b90de413388",
   "metadata": {},
   "outputs": [],
   "source": [
    "# this is continous variable and correct data types & there is no null value\n",
    "# there is 3 unique value(medium>low>high)"
   ]
  },
  {
   "cell_type": "code",
   "execution_count": 34,
   "id": "841c52bf-23a7-4eee-ab20-aa4d2584d1d5",
   "metadata": {},
   "outputs": [
    {
     "data": {
      "text/plain": [
       "dtype('O')"
      ]
     },
     "execution_count": 34,
     "metadata": {},
     "output_type": "execute_result"
    }
   ],
   "source": [
    "df[\"Motivation_Level\"].dtypes"
   ]
  },
  {
   "cell_type": "code",
   "execution_count": 36,
   "id": "b46adb91-6f57-4488-a671-b2e70402d95f",
   "metadata": {},
   "outputs": [
    {
     "data": {
      "text/plain": [
       "array(['Low', 'Medium', 'High'], dtype=object)"
      ]
     },
     "execution_count": 36,
     "metadata": {},
     "output_type": "execute_result"
    }
   ],
   "source": [
    "df[\"Motivation_Level\"].unique()"
   ]
  },
  {
   "cell_type": "code",
   "execution_count": 38,
   "id": "1d11dc86-6022-47e8-bcb7-59b536c36f7c",
   "metadata": {},
   "outputs": [
    {
     "data": {
      "text/plain": [
       "Motivation_Level\n",
       "Medium    3351\n",
       "Low       1937\n",
       "High      1319\n",
       "Name: count, dtype: int64"
      ]
     },
     "execution_count": 38,
     "metadata": {},
     "output_type": "execute_result"
    }
   ],
   "source": [
    "df[\"Motivation_Level\"].value_counts()"
   ]
  },
  {
   "cell_type": "code",
   "execution_count": 40,
   "id": "d59d407b-15b7-429a-acfb-3f0c1e603aa8",
   "metadata": {},
   "outputs": [
    {
     "data": {
      "text/plain": [
       "0"
      ]
     },
     "execution_count": 40,
     "metadata": {},
     "output_type": "execute_result"
    }
   ],
   "source": [
    "df[\"Motivation_Level\"].isnull().sum()"
   ]
  },
  {
   "cell_type": "markdown",
   "id": "124637de-6d8e-4e04-b3b5-0b9d997de990",
   "metadata": {},
   "source": [
    "# Internet_Access"
   ]
  },
  {
   "cell_type": "code",
   "execution_count": null,
   "id": "81fe267b-0702-481b-9440-ac8c856391e4",
   "metadata": {},
   "outputs": [],
   "source": [
    "# this is discrete variable and correct data types & there is no null value\n",
    "# there is 2 unique value(yes and no) yes=6108 and no=499"
   ]
  },
  {
   "cell_type": "code",
   "execution_count": 42,
   "id": "1f867e2b-3688-4a6a-a6ac-e62cb0006fd6",
   "metadata": {},
   "outputs": [
    {
     "data": {
      "text/plain": [
       "dtype('O')"
      ]
     },
     "execution_count": 42,
     "metadata": {},
     "output_type": "execute_result"
    }
   ],
   "source": [
    "df[\"Internet_Access\"].dtypes"
   ]
  },
  {
   "cell_type": "code",
   "execution_count": 44,
   "id": "cb8dd2a2-c837-4312-89f2-928747abd0bf",
   "metadata": {},
   "outputs": [
    {
     "data": {
      "text/plain": [
       "array(['Yes', 'No'], dtype=object)"
      ]
     },
     "execution_count": 44,
     "metadata": {},
     "output_type": "execute_result"
    }
   ],
   "source": [
    "df[\"Internet_Access\"].unique()"
   ]
  },
  {
   "cell_type": "code",
   "execution_count": 46,
   "id": "5f839297-a128-4ce9-8309-3ed51253dd61",
   "metadata": {},
   "outputs": [
    {
     "data": {
      "text/plain": [
       "Internet_Access\n",
       "Yes    6108\n",
       "No      499\n",
       "Name: count, dtype: int64"
      ]
     },
     "execution_count": 46,
     "metadata": {},
     "output_type": "execute_result"
    }
   ],
   "source": [
    "df[\"Internet_Access\"].value_counts()"
   ]
  },
  {
   "cell_type": "markdown",
   "id": "6423e4a8-5051-4484-badf-a375e3d2d3c6",
   "metadata": {},
   "source": [
    "# Tutoring_Sessions"
   ]
  },
  {
   "cell_type": "code",
   "execution_count": null,
   "id": "ed65a8eb-1aaa-4ea7-bf32-d87111f20b35",
   "metadata": {},
   "outputs": [],
   "source": [
    "# this is continous variable and correct data types & there is no null value"
   ]
  },
  {
   "cell_type": "code",
   "execution_count": 48,
   "id": "dbe8d5d8-d404-41c9-a8a0-3b6eed7f95b3",
   "metadata": {},
   "outputs": [
    {
     "data": {
      "text/plain": [
       "dtype('int64')"
      ]
     },
     "execution_count": 48,
     "metadata": {},
     "output_type": "execute_result"
    }
   ],
   "source": [
    "df[\"Tutoring_Sessions\"].dtypes"
   ]
  },
  {
   "cell_type": "code",
   "execution_count": 50,
   "id": "68783326-f0eb-41dc-8652-69e1eb0ec77b",
   "metadata": {},
   "outputs": [
    {
     "data": {
      "text/plain": [
       "array([0, 2, 1, 3, 4, 5, 6, 7, 8], dtype=int64)"
      ]
     },
     "execution_count": 50,
     "metadata": {},
     "output_type": "execute_result"
    }
   ],
   "source": [
    "df[\"Tutoring_Sessions\"].unique()"
   ]
  },
  {
   "cell_type": "code",
   "execution_count": 52,
   "id": "a575f51e-b28a-4424-ac98-8e23f16064b2",
   "metadata": {},
   "outputs": [
    {
     "data": {
      "text/plain": [
       "Tutoring_Sessions\n",
       "1    2179\n",
       "2    1649\n",
       "0    1513\n",
       "3     836\n",
       "4     301\n",
       "5     103\n",
       "6      18\n",
       "7       7\n",
       "8       1\n",
       "Name: count, dtype: int64"
      ]
     },
     "execution_count": 52,
     "metadata": {},
     "output_type": "execute_result"
    }
   ],
   "source": [
    "df[\"Tutoring_Sessions\"].value_counts()"
   ]
  },
  {
   "cell_type": "code",
   "execution_count": 54,
   "id": "02545e47-4e60-4390-8be2-a45a8f4a250d",
   "metadata": {},
   "outputs": [
    {
     "data": {
      "text/plain": [
       "0"
      ]
     },
     "execution_count": 54,
     "metadata": {},
     "output_type": "execute_result"
    }
   ],
   "source": [
    "df[\"Tutoring_Sessions\"].isnull().sum()"
   ]
  },
  {
   "cell_type": "markdown",
   "id": "2780a649-3686-4ea5-a168-62c2cbe1ecb6",
   "metadata": {},
   "source": [
    "# Family_Income"
   ]
  },
  {
   "cell_type": "code",
   "execution_count": null,
   "id": "8aaf95dc-afe1-4efa-bb2c-2e42e1028300",
   "metadata": {},
   "outputs": [],
   "source": [
    "# this is discrite variable and correct data types & there is no null value\n",
    "# there is  3 unique value(low,medium,high) low>medium>high"
   ]
  },
  {
   "cell_type": "code",
   "execution_count": 56,
   "id": "72f99447-aba4-41ff-a2d3-90fb5baeb344",
   "metadata": {},
   "outputs": [
    {
     "data": {
      "text/plain": [
       "dtype('O')"
      ]
     },
     "execution_count": 56,
     "metadata": {},
     "output_type": "execute_result"
    }
   ],
   "source": [
    "df[\"Family_Income\"].dtypes"
   ]
  },
  {
   "cell_type": "code",
   "execution_count": 58,
   "id": "f5f85198-12c4-4689-83f5-7d9f17bd5317",
   "metadata": {},
   "outputs": [
    {
     "data": {
      "text/plain": [
       "array(['Low', 'Medium', 'High'], dtype=object)"
      ]
     },
     "execution_count": 58,
     "metadata": {},
     "output_type": "execute_result"
    }
   ],
   "source": [
    "df[\"Family_Income\"].unique()"
   ]
  },
  {
   "cell_type": "code",
   "execution_count": 60,
   "id": "dc7606db-91d7-4db2-8e63-59043b6f2544",
   "metadata": {},
   "outputs": [
    {
     "data": {
      "text/plain": [
       "Family_Income\n",
       "Low       2672\n",
       "Medium    2666\n",
       "High      1269\n",
       "Name: count, dtype: int64"
      ]
     },
     "execution_count": 60,
     "metadata": {},
     "output_type": "execute_result"
    }
   ],
   "source": [
    "df[\"Family_Income\"].value_counts()"
   ]
  },
  {
   "cell_type": "code",
   "execution_count": 62,
   "id": "7e2e1b4d-3367-4234-bfb3-e4c4307e0259",
   "metadata": {},
   "outputs": [
    {
     "data": {
      "text/plain": [
       "0"
      ]
     },
     "execution_count": 62,
     "metadata": {},
     "output_type": "execute_result"
    }
   ],
   "source": [
    "df[\"Family_Income\"].isnull().sum()"
   ]
  },
  {
   "cell_type": "markdown",
   "id": "133cf320-f257-4239-89bd-dda3605cdf9b",
   "metadata": {},
   "source": [
    "# Teacher_Quality"
   ]
  },
  {
   "cell_type": "code",
   "execution_count": null,
   "id": "b1438d95-24b8-422e-9fc1-d01ea566bef3",
   "metadata": {},
   "outputs": [],
   "source": [
    "# this is count/discrete variable and correct data types & there is some missing value\n",
    "# there is  3 unique value(low,medium,high)medium>high>low"
   ]
  },
  {
   "cell_type": "code",
   "execution_count": 64,
   "id": "8525cf17-cb1e-4ced-a252-327a4700b723",
   "metadata": {},
   "outputs": [
    {
     "data": {
      "text/plain": [
       "dtype('O')"
      ]
     },
     "execution_count": 64,
     "metadata": {},
     "output_type": "execute_result"
    }
   ],
   "source": [
    "df[\"Teacher_Quality\"].dtypes"
   ]
  },
  {
   "cell_type": "code",
   "execution_count": 66,
   "id": "a736e684-9274-44c2-967e-46bd72ce635c",
   "metadata": {},
   "outputs": [
    {
     "data": {
      "text/plain": [
       "array(['Medium', 'High', 'Low', nan], dtype=object)"
      ]
     },
     "execution_count": 66,
     "metadata": {},
     "output_type": "execute_result"
    }
   ],
   "source": [
    "df[\"Teacher_Quality\"].unique()"
   ]
  },
  {
   "cell_type": "code",
   "execution_count": 68,
   "id": "1e9fe103-ac4c-4928-a310-b7cfd1b8a136",
   "metadata": {},
   "outputs": [
    {
     "data": {
      "text/plain": [
       "Teacher_Quality\n",
       "Medium    3925\n",
       "High      1947\n",
       "Low        657\n",
       "Name: count, dtype: int64"
      ]
     },
     "execution_count": 68,
     "metadata": {},
     "output_type": "execute_result"
    }
   ],
   "source": [
    "df[\"Teacher_Quality\"].value_counts()"
   ]
  },
  {
   "cell_type": "code",
   "execution_count": 70,
   "id": "d0cbf3e0-0d8b-4359-a297-d721e0018e87",
   "metadata": {},
   "outputs": [
    {
     "data": {
      "text/plain": [
       "78"
      ]
     },
     "execution_count": 70,
     "metadata": {},
     "output_type": "execute_result"
    }
   ],
   "source": [
    "df[\"Teacher_Quality\"].isnull().sum()"
   ]
  },
  {
   "cell_type": "markdown",
   "id": "327b139c-a421-449e-aa02-84fbb1b5fd2a",
   "metadata": {},
   "source": [
    "# School_Type"
   ]
  },
  {
   "cell_type": "code",
   "execution_count": null,
   "id": "050d53d1-5fcd-429e-8bf5-5ec76b0933ca",
   "metadata": {},
   "outputs": [],
   "source": [
    "# this is discrete variable and correct data types & there is no null value\n",
    "# there is  2 unique value(publicand private) public>private"
   ]
  },
  {
   "cell_type": "code",
   "execution_count": 72,
   "id": "f0a0bacb-ac56-457a-a495-2afa59d6c08e",
   "metadata": {},
   "outputs": [
    {
     "data": {
      "text/plain": [
       "dtype('O')"
      ]
     },
     "execution_count": 72,
     "metadata": {},
     "output_type": "execute_result"
    }
   ],
   "source": [
    "df[\"School_Type\"].dtypes"
   ]
  },
  {
   "cell_type": "code",
   "execution_count": 74,
   "id": "9a6532a4-6f55-4e10-bb47-184e1e2342b5",
   "metadata": {},
   "outputs": [
    {
     "data": {
      "text/plain": [
       "array(['Public', 'Private'], dtype=object)"
      ]
     },
     "execution_count": 74,
     "metadata": {},
     "output_type": "execute_result"
    }
   ],
   "source": [
    "df[\"School_Type\"].unique()"
   ]
  },
  {
   "cell_type": "code",
   "execution_count": 76,
   "id": "289be5a3-40fb-484c-967b-23e3be2140e6",
   "metadata": {},
   "outputs": [
    {
     "data": {
      "text/plain": [
       "School_Type\n",
       "Public     4598\n",
       "Private    2009\n",
       "Name: count, dtype: int64"
      ]
     },
     "execution_count": 76,
     "metadata": {},
     "output_type": "execute_result"
    }
   ],
   "source": [
    "df[\"School_Type\"].value_counts()"
   ]
  },
  {
   "cell_type": "code",
   "execution_count": 78,
   "id": "7ddddff3-2534-4d39-8e63-57f969f9e34e",
   "metadata": {},
   "outputs": [
    {
     "data": {
      "text/plain": [
       "0"
      ]
     },
     "execution_count": 78,
     "metadata": {},
     "output_type": "execute_result"
    }
   ],
   "source": [
    "df[\"School_Type\"].isnull().sum()"
   ]
  },
  {
   "cell_type": "code",
   "execution_count": 80,
   "id": "dc0c9420-50f4-465c-8d3f-f9589f9693f9",
   "metadata": {},
   "outputs": [
    {
     "data": {
      "text/html": [
       "<div>\n",
       "<style scoped>\n",
       "    .dataframe tbody tr th:only-of-type {\n",
       "        vertical-align: middle;\n",
       "    }\n",
       "\n",
       "    .dataframe tbody tr th {\n",
       "        vertical-align: top;\n",
       "    }\n",
       "\n",
       "    .dataframe thead th {\n",
       "        text-align: right;\n",
       "    }\n",
       "</style>\n",
       "<table border=\"1\" class=\"dataframe\">\n",
       "  <thead>\n",
       "    <tr style=\"text-align: right;\">\n",
       "      <th></th>\n",
       "      <th>Studied_Hours</th>\n",
       "      <th>Attendance</th>\n",
       "      <th>Parental_Involvement</th>\n",
       "      <th>Access_to_Resources</th>\n",
       "      <th>Extracurricular_Activities</th>\n",
       "      <th>Sleep_Hours</th>\n",
       "      <th>Previous_Scores</th>\n",
       "      <th>Motivation_Level</th>\n",
       "      <th>Internet_Access</th>\n",
       "      <th>Tutoring_Sessions</th>\n",
       "      <th>Family_Income</th>\n",
       "      <th>Teacher_Quality</th>\n",
       "      <th>School_Type</th>\n",
       "      <th>Peer_Influence</th>\n",
       "      <th>Physical_Activity</th>\n",
       "      <th>Learning_Disabilities</th>\n",
       "      <th>Parental_Education_Level</th>\n",
       "      <th>Distance_from_Home</th>\n",
       "      <th>Gender</th>\n",
       "      <th>Exam_Score</th>\n",
       "    </tr>\n",
       "  </thead>\n",
       "  <tbody>\n",
       "    <tr>\n",
       "      <th>0</th>\n",
       "      <td>23</td>\n",
       "      <td>84</td>\n",
       "      <td>Low</td>\n",
       "      <td>High</td>\n",
       "      <td>No</td>\n",
       "      <td>7</td>\n",
       "      <td>73</td>\n",
       "      <td>Low</td>\n",
       "      <td>Yes</td>\n",
       "      <td>0</td>\n",
       "      <td>Low</td>\n",
       "      <td>Medium</td>\n",
       "      <td>Public</td>\n",
       "      <td>Positive</td>\n",
       "      <td>3</td>\n",
       "      <td>No</td>\n",
       "      <td>High School</td>\n",
       "      <td>Near</td>\n",
       "      <td>Male</td>\n",
       "      <td>67</td>\n",
       "    </tr>\n",
       "    <tr>\n",
       "      <th>1</th>\n",
       "      <td>19</td>\n",
       "      <td>64</td>\n",
       "      <td>Low</td>\n",
       "      <td>Medium</td>\n",
       "      <td>No</td>\n",
       "      <td>8</td>\n",
       "      <td>59</td>\n",
       "      <td>Low</td>\n",
       "      <td>Yes</td>\n",
       "      <td>2</td>\n",
       "      <td>Medium</td>\n",
       "      <td>Medium</td>\n",
       "      <td>Public</td>\n",
       "      <td>Negative</td>\n",
       "      <td>4</td>\n",
       "      <td>No</td>\n",
       "      <td>College</td>\n",
       "      <td>Moderate</td>\n",
       "      <td>Female</td>\n",
       "      <td>61</td>\n",
       "    </tr>\n",
       "  </tbody>\n",
       "</table>\n",
       "</div>"
      ],
      "text/plain": [
       "   Studied_Hours  Attendance Parental_Involvement Access_to_Resources  \\\n",
       "0             23          84                  Low                High   \n",
       "1             19          64                  Low              Medium   \n",
       "\n",
       "  Extracurricular_Activities  Sleep_Hours  Previous_Scores Motivation_Level  \\\n",
       "0                         No            7               73              Low   \n",
       "1                         No            8               59              Low   \n",
       "\n",
       "  Internet_Access  Tutoring_Sessions Family_Income Teacher_Quality  \\\n",
       "0             Yes                  0           Low          Medium   \n",
       "1             Yes                  2        Medium          Medium   \n",
       "\n",
       "  School_Type Peer_Influence  Physical_Activity Learning_Disabilities  \\\n",
       "0      Public       Positive                  3                    No   \n",
       "1      Public       Negative                  4                    No   \n",
       "\n",
       "  Parental_Education_Level Distance_from_Home  Gender  Exam_Score  \n",
       "0              High School               Near    Male          67  \n",
       "1                  College           Moderate  Female          61  "
      ]
     },
     "execution_count": 80,
     "metadata": {},
     "output_type": "execute_result"
    }
   ],
   "source": [
    "df.head(2)"
   ]
  },
  {
   "cell_type": "markdown",
   "id": "336f3c93-4259-46d0-b63f-a2d310fca65f",
   "metadata": {},
   "source": [
    "# Peer_Influence"
   ]
  },
  {
   "cell_type": "code",
   "execution_count": null,
   "id": "864f99d9-bd5a-4466-a566-23b28c38a41e",
   "metadata": {},
   "outputs": [],
   "source": [
    "# this is discrete variable and correct data types & there is no missing value\n",
    "# there is  3 unique value(+ve,-ve,neutral) +ve> neutral> -ve   "
   ]
  },
  {
   "cell_type": "code",
   "execution_count": 82,
   "id": "9876e5f2-2262-4eac-99e2-c5971ca84239",
   "metadata": {},
   "outputs": [
    {
     "data": {
      "text/plain": [
       "dtype('O')"
      ]
     },
     "execution_count": 82,
     "metadata": {},
     "output_type": "execute_result"
    }
   ],
   "source": [
    "df[\"Peer_Influence\"].dtypes"
   ]
  },
  {
   "cell_type": "code",
   "execution_count": 84,
   "id": "0a0fc0c7-56e4-4390-855e-8a4e99e1173a",
   "metadata": {},
   "outputs": [
    {
     "data": {
      "text/plain": [
       "array(['Positive', 'Negative', 'Neutral'], dtype=object)"
      ]
     },
     "execution_count": 84,
     "metadata": {},
     "output_type": "execute_result"
    }
   ],
   "source": [
    "df[\"Peer_Influence\"].unique()"
   ]
  },
  {
   "cell_type": "code",
   "execution_count": 86,
   "id": "39d72a36-8e30-4991-8a70-b06f57ac3873",
   "metadata": {},
   "outputs": [
    {
     "data": {
      "text/plain": [
       "Peer_Influence\n",
       "Positive    2638\n",
       "Neutral     2592\n",
       "Negative    1377\n",
       "Name: count, dtype: int64"
      ]
     },
     "execution_count": 86,
     "metadata": {},
     "output_type": "execute_result"
    }
   ],
   "source": [
    "df[\"Peer_Influence\"].value_counts()"
   ]
  },
  {
   "cell_type": "code",
   "execution_count": 88,
   "id": "f08d7c62-9b9e-4043-834b-d83efe98ad36",
   "metadata": {},
   "outputs": [
    {
     "data": {
      "text/plain": [
       "0"
      ]
     },
     "execution_count": 88,
     "metadata": {},
     "output_type": "execute_result"
    }
   ],
   "source": [
    "df[\"Peer_Influence\"].isnull().sum()"
   ]
  },
  {
   "cell_type": "markdown",
   "id": "8390bb92-76e9-40f4-bcff-2037bbf7f391",
   "metadata": {},
   "source": [
    "# Physical_Activity"
   ]
  },
  {
   "cell_type": "code",
   "execution_count": null,
   "id": "00e7a846-3067-4b75-9f22-51cbaba03e50",
   "metadata": {},
   "outputs": [],
   "source": [
    "# this is continous variable and correct data types & there is some missing value"
   ]
  },
  {
   "cell_type": "code",
   "execution_count": 90,
   "id": "daabc0ba-b36a-41c8-a634-c0868d39e429",
   "metadata": {},
   "outputs": [
    {
     "data": {
      "text/plain": [
       "dtype('int64')"
      ]
     },
     "execution_count": 90,
     "metadata": {},
     "output_type": "execute_result"
    }
   ],
   "source": [
    "df[\"Physical_Activity\"].dtypes"
   ]
  },
  {
   "cell_type": "code",
   "execution_count": 92,
   "id": "97506cf9-f70d-4b40-90cd-dbf3f4b97d5f",
   "metadata": {},
   "outputs": [
    {
     "data": {
      "text/plain": [
       "array([3, 4, 2, 1, 5, 0, 6], dtype=int64)"
      ]
     },
     "execution_count": 92,
     "metadata": {},
     "output_type": "execute_result"
    }
   ],
   "source": [
    "df[\"Physical_Activity\"].unique()"
   ]
  },
  {
   "cell_type": "code",
   "execution_count": 94,
   "id": "2d62230b-2144-4861-a2b0-ccd2a7aaedce",
   "metadata": {},
   "outputs": [
    {
     "data": {
      "text/plain": [
       "Physical_Activity\n",
       "3    2545\n",
       "2    1627\n",
       "4    1575\n",
       "1     421\n",
       "5     361\n",
       "0      46\n",
       "6      32\n",
       "Name: count, dtype: int64"
      ]
     },
     "execution_count": 94,
     "metadata": {},
     "output_type": "execute_result"
    }
   ],
   "source": [
    "df[\"Physical_Activity\"].value_counts()"
   ]
  },
  {
   "cell_type": "code",
   "execution_count": 137,
   "id": "3ae8d9a4-944f-4946-af9c-015e752cbdae",
   "metadata": {},
   "outputs": [
    {
     "data": {
      "text/plain": [
       "0"
      ]
     },
     "execution_count": 137,
     "metadata": {},
     "output_type": "execute_result"
    }
   ],
   "source": [
    "df[\"Physical_Activity\"].isnull().sum()"
   ]
  },
  {
   "cell_type": "markdown",
   "id": "3660f544-d9ac-4313-b71c-bed748587eaa",
   "metadata": {},
   "source": [
    "# Learning_Disabilities"
   ]
  },
  {
   "cell_type": "code",
   "execution_count": null,
   "id": "def32501-3813-4995-b6b8-a04cb8dfa25a",
   "metadata": {},
   "outputs": [],
   "source": [
    "# this is discrete variable and correct data types & there is no null value\n",
    "# there is 2 unique value(yes and no) yes=6108 and no=499"
   ]
  },
  {
   "cell_type": "code",
   "execution_count": 139,
   "id": "5f5ded5f-4984-408d-a97b-c542d6db5ce7",
   "metadata": {},
   "outputs": [
    {
     "data": {
      "text/plain": [
       "dtype('O')"
      ]
     },
     "execution_count": 139,
     "metadata": {},
     "output_type": "execute_result"
    }
   ],
   "source": [
    "df[\"Learning_Disabilities\"].dtypes"
   ]
  },
  {
   "cell_type": "code",
   "execution_count": 141,
   "id": "50e3e24e-14c5-4447-b0a1-1cbb88e1f9a7",
   "metadata": {},
   "outputs": [
    {
     "data": {
      "text/plain": [
       "array(['No', 'Yes'], dtype=object)"
      ]
     },
     "execution_count": 141,
     "metadata": {},
     "output_type": "execute_result"
    }
   ],
   "source": [
    "df[\"Learning_Disabilities\"].unique()"
   ]
  },
  {
   "cell_type": "code",
   "execution_count": 143,
   "id": "a5e8d6f5-39b1-45a7-ad39-cbc2dc8b382f",
   "metadata": {},
   "outputs": [
    {
     "data": {
      "text/plain": [
       "Learning_Disabilities\n",
       "No     5912\n",
       "Yes     695\n",
       "Name: count, dtype: int64"
      ]
     },
     "execution_count": 143,
     "metadata": {},
     "output_type": "execute_result"
    }
   ],
   "source": [
    "df[\"Learning_Disabilities\"].value_counts()"
   ]
  },
  {
   "cell_type": "code",
   "execution_count": 145,
   "id": "c4f1f9a8-30fa-4756-9cf5-1cc8cbd70c21",
   "metadata": {},
   "outputs": [
    {
     "data": {
      "text/plain": [
       "0"
      ]
     },
     "execution_count": 145,
     "metadata": {},
     "output_type": "execute_result"
    }
   ],
   "source": [
    "df[\"Learning_Disabilities\"].isnull().sum()"
   ]
  },
  {
   "cell_type": "markdown",
   "id": "8fc783e1-7632-439d-ab39-c65c8e5fc7e5",
   "metadata": {},
   "source": [
    "# Parental_Education_Level"
   ]
  },
  {
   "cell_type": "code",
   "execution_count": null,
   "id": "fa4cbbb1-0a1b-43ff-b846-7011af17638e",
   "metadata": {},
   "outputs": [],
   "source": [
    "# this is discrete variable and correct data types & there is some missing value\n",
    "# there is  3 unique value(college,highschool,postgraduate)   "
   ]
  },
  {
   "cell_type": "code",
   "execution_count": 147,
   "id": "9a52c16f-b81f-4eac-9778-76fae56ca3e8",
   "metadata": {},
   "outputs": [
    {
     "data": {
      "text/plain": [
       "dtype('O')"
      ]
     },
     "execution_count": 147,
     "metadata": {},
     "output_type": "execute_result"
    }
   ],
   "source": [
    "df[\"Parental_Education_Level\"].dtypes"
   ]
  },
  {
   "cell_type": "code",
   "execution_count": 149,
   "id": "23baa9e5-9634-47a3-bb5e-990767309cee",
   "metadata": {},
   "outputs": [
    {
     "data": {
      "text/plain": [
       "array(['High School', 'College', 'Postgraduate', nan], dtype=object)"
      ]
     },
     "execution_count": 149,
     "metadata": {},
     "output_type": "execute_result"
    }
   ],
   "source": [
    "df[\"Parental_Education_Level\"].unique()"
   ]
  },
  {
   "cell_type": "code",
   "execution_count": 151,
   "id": "31765ccd-72a5-4f22-b5dc-7b598f3d68eb",
   "metadata": {},
   "outputs": [
    {
     "data": {
      "text/plain": [
       "Parental_Education_Level\n",
       "High School     3223\n",
       "College         1989\n",
       "Postgraduate    1305\n",
       "Name: count, dtype: int64"
      ]
     },
     "execution_count": 151,
     "metadata": {},
     "output_type": "execute_result"
    }
   ],
   "source": [
    "df[\"Parental_Education_Level\"].value_counts()"
   ]
  },
  {
   "cell_type": "code",
   "execution_count": 153,
   "id": "09cc8088-b8b7-48d1-83e3-d699820fde94",
   "metadata": {},
   "outputs": [
    {
     "data": {
      "text/plain": [
       "90"
      ]
     },
     "execution_count": 153,
     "metadata": {},
     "output_type": "execute_result"
    }
   ],
   "source": [
    "df[\"Parental_Education_Level\"].isnull().sum()"
   ]
  },
  {
   "cell_type": "markdown",
   "id": "82a7bde4-804e-4aff-9044-cbc1c6a3b236",
   "metadata": {},
   "source": [
    "# Distance_from_Home"
   ]
  },
  {
   "cell_type": "code",
   "execution_count": null,
   "id": "7f9a77f3-4973-480e-91da-71300e4b67c6",
   "metadata": {},
   "outputs": [],
   "source": [
    "# this is discrete variable and correct data types & there is some  missing value\n",
    "# there is  3 unique value(near,moderate,far)   "
   ]
  },
  {
   "cell_type": "code",
   "execution_count": 155,
   "id": "9adda411-ba6c-4439-ba6f-f37960f7c365",
   "metadata": {},
   "outputs": [
    {
     "data": {
      "text/plain": [
       "dtype('O')"
      ]
     },
     "execution_count": 155,
     "metadata": {},
     "output_type": "execute_result"
    }
   ],
   "source": [
    "df[\"Distance_from_Home\"].dtypes"
   ]
  },
  {
   "cell_type": "code",
   "execution_count": 157,
   "id": "4025544c-b187-49c4-b69b-3866a2271ce5",
   "metadata": {},
   "outputs": [
    {
     "data": {
      "text/plain": [
       "array(['Near', 'Moderate', 'Far', nan], dtype=object)"
      ]
     },
     "execution_count": 157,
     "metadata": {},
     "output_type": "execute_result"
    }
   ],
   "source": [
    "df[\"Distance_from_Home\"].unique()"
   ]
  },
  {
   "cell_type": "code",
   "execution_count": 159,
   "id": "4b28f7e3-188a-4fbd-a675-081ddcb75c7a",
   "metadata": {},
   "outputs": [
    {
     "data": {
      "text/plain": [
       "Distance_from_Home\n",
       "Near        3884\n",
       "Moderate    1998\n",
       "Far          658\n",
       "Name: count, dtype: int64"
      ]
     },
     "execution_count": 159,
     "metadata": {},
     "output_type": "execute_result"
    }
   ],
   "source": [
    "df[\"Distance_from_Home\"].value_counts()"
   ]
  },
  {
   "cell_type": "code",
   "execution_count": 161,
   "id": "110e44d9-2a3d-4f68-80ee-1fae4171377d",
   "metadata": {},
   "outputs": [
    {
     "data": {
      "text/plain": [
       "67"
      ]
     },
     "execution_count": 161,
     "metadata": {},
     "output_type": "execute_result"
    }
   ],
   "source": [
    "df[\"Distance_from_Home\"].isnull().sum()"
   ]
  },
  {
   "cell_type": "code",
   "execution_count": 163,
   "id": "22e7c233-d1b8-4cac-bcba-82394082a3d4",
   "metadata": {},
   "outputs": [
    {
     "data": {
      "text/html": [
       "<div>\n",
       "<style scoped>\n",
       "    .dataframe tbody tr th:only-of-type {\n",
       "        vertical-align: middle;\n",
       "    }\n",
       "\n",
       "    .dataframe tbody tr th {\n",
       "        vertical-align: top;\n",
       "    }\n",
       "\n",
       "    .dataframe thead th {\n",
       "        text-align: right;\n",
       "    }\n",
       "</style>\n",
       "<table border=\"1\" class=\"dataframe\">\n",
       "  <thead>\n",
       "    <tr style=\"text-align: right;\">\n",
       "      <th></th>\n",
       "      <th>Studied_Hours</th>\n",
       "      <th>Attendance</th>\n",
       "      <th>Parental_Involvement</th>\n",
       "      <th>Access_to_Resources</th>\n",
       "      <th>Extracurricular_Activities</th>\n",
       "      <th>Sleep_Hours</th>\n",
       "      <th>Previous_Scores</th>\n",
       "      <th>Motivation_Level</th>\n",
       "      <th>Internet_Access</th>\n",
       "      <th>Tutoring_Sessions</th>\n",
       "      <th>Family_Income</th>\n",
       "      <th>Teacher_Quality</th>\n",
       "      <th>School_Type</th>\n",
       "      <th>Peer_Influence</th>\n",
       "      <th>Physical_Activity</th>\n",
       "      <th>Learning_Disabilities</th>\n",
       "      <th>Parental_Education_Level</th>\n",
       "      <th>Distance_from_Home</th>\n",
       "      <th>Gender</th>\n",
       "      <th>Exam_Score</th>\n",
       "    </tr>\n",
       "  </thead>\n",
       "  <tbody>\n",
       "    <tr>\n",
       "      <th>0</th>\n",
       "      <td>23</td>\n",
       "      <td>84</td>\n",
       "      <td>Low</td>\n",
       "      <td>High</td>\n",
       "      <td>No</td>\n",
       "      <td>7</td>\n",
       "      <td>73</td>\n",
       "      <td>Low</td>\n",
       "      <td>Yes</td>\n",
       "      <td>0</td>\n",
       "      <td>Low</td>\n",
       "      <td>Medium</td>\n",
       "      <td>Public</td>\n",
       "      <td>Positive</td>\n",
       "      <td>3</td>\n",
       "      <td>No</td>\n",
       "      <td>High School</td>\n",
       "      <td>Near</td>\n",
       "      <td>Male</td>\n",
       "      <td>67</td>\n",
       "    </tr>\n",
       "    <tr>\n",
       "      <th>1</th>\n",
       "      <td>19</td>\n",
       "      <td>64</td>\n",
       "      <td>Low</td>\n",
       "      <td>Medium</td>\n",
       "      <td>No</td>\n",
       "      <td>8</td>\n",
       "      <td>59</td>\n",
       "      <td>Low</td>\n",
       "      <td>Yes</td>\n",
       "      <td>2</td>\n",
       "      <td>Medium</td>\n",
       "      <td>Medium</td>\n",
       "      <td>Public</td>\n",
       "      <td>Negative</td>\n",
       "      <td>4</td>\n",
       "      <td>No</td>\n",
       "      <td>College</td>\n",
       "      <td>Moderate</td>\n",
       "      <td>Female</td>\n",
       "      <td>61</td>\n",
       "    </tr>\n",
       "  </tbody>\n",
       "</table>\n",
       "</div>"
      ],
      "text/plain": [
       "   Studied_Hours  Attendance Parental_Involvement Access_to_Resources  \\\n",
       "0             23          84                  Low                High   \n",
       "1             19          64                  Low              Medium   \n",
       "\n",
       "  Extracurricular_Activities  Sleep_Hours  Previous_Scores Motivation_Level  \\\n",
       "0                         No            7               73              Low   \n",
       "1                         No            8               59              Low   \n",
       "\n",
       "  Internet_Access  Tutoring_Sessions Family_Income Teacher_Quality  \\\n",
       "0             Yes                  0           Low          Medium   \n",
       "1             Yes                  2        Medium          Medium   \n",
       "\n",
       "  School_Type Peer_Influence  Physical_Activity Learning_Disabilities  \\\n",
       "0      Public       Positive                  3                    No   \n",
       "1      Public       Negative                  4                    No   \n",
       "\n",
       "  Parental_Education_Level Distance_from_Home  Gender  Exam_Score  \n",
       "0              High School               Near    Male          67  \n",
       "1                  College           Moderate  Female          61  "
      ]
     },
     "execution_count": 163,
     "metadata": {},
     "output_type": "execute_result"
    }
   ],
   "source": [
    "df.head(2)"
   ]
  },
  {
   "cell_type": "markdown",
   "id": "e5838e64-6b51-4cbf-8b09-55dc1c8c56c2",
   "metadata": {},
   "source": [
    "# Gender"
   ]
  },
  {
   "cell_type": "code",
   "execution_count": null,
   "id": "1e06cf7f-7ae0-4e04-913c-9007e13a5f9d",
   "metadata": {},
   "outputs": [],
   "source": [
    "# this is discrete variable and correct data types & there is no null value\n",
    "# there is 2 unique value(male,female) male> female"
   ]
  },
  {
   "cell_type": "code",
   "execution_count": 165,
   "id": "b7ac5d75-525c-4b1f-be2d-c88cf54b3d67",
   "metadata": {},
   "outputs": [
    {
     "data": {
      "text/plain": [
       "dtype('O')"
      ]
     },
     "execution_count": 165,
     "metadata": {},
     "output_type": "execute_result"
    }
   ],
   "source": [
    "df[\"Gender\"].dtypes"
   ]
  },
  {
   "cell_type": "code",
   "execution_count": 167,
   "id": "04362cd8-1523-4fc2-bd30-4c238d33ee2c",
   "metadata": {},
   "outputs": [
    {
     "data": {
      "text/plain": [
       "array(['Male', 'Female'], dtype=object)"
      ]
     },
     "execution_count": 167,
     "metadata": {},
     "output_type": "execute_result"
    }
   ],
   "source": [
    "df[\"Gender\"].unique()"
   ]
  },
  {
   "cell_type": "code",
   "execution_count": 169,
   "id": "01bc7f19-f509-48d5-bf48-186c5a354d58",
   "metadata": {},
   "outputs": [
    {
     "data": {
      "text/plain": [
       "Gender\n",
       "Male      3814\n",
       "Female    2793\n",
       "Name: count, dtype: int64"
      ]
     },
     "execution_count": 169,
     "metadata": {},
     "output_type": "execute_result"
    }
   ],
   "source": [
    "df[\"Gender\"].value_counts()\n"
   ]
  },
  {
   "cell_type": "code",
   "execution_count": 171,
   "id": "a603ab08-6dcf-46ac-bf90-424429ad5e04",
   "metadata": {},
   "outputs": [
    {
     "data": {
      "text/plain": [
       "0"
      ]
     },
     "execution_count": 171,
     "metadata": {},
     "output_type": "execute_result"
    }
   ],
   "source": [
    "df[\"Gender\"].isnull().sum()"
   ]
  },
  {
   "cell_type": "markdown",
   "id": "5af4139f-f6ed-4ed9-bce1-08ebc5eb86c5",
   "metadata": {},
   "source": [
    "# Exam_Score"
   ]
  },
  {
   "cell_type": "code",
   "execution_count": null,
   "id": "aaac29b1-8af3-4ac2-a5d1-f5b49818efd8",
   "metadata": {},
   "outputs": [],
   "source": [
    "# this is continous variable and correct data types & there is no null value\n"
   ]
  },
  {
   "cell_type": "code",
   "execution_count": 173,
   "id": "3bb25e98-4bd1-4ad0-abaf-11ac7a415221",
   "metadata": {},
   "outputs": [
    {
     "data": {
      "text/plain": [
       "dtype('int64')"
      ]
     },
     "execution_count": 173,
     "metadata": {},
     "output_type": "execute_result"
    }
   ],
   "source": [
    "df[\"Exam_Score\"].dtypes"
   ]
  },
  {
   "cell_type": "code",
   "execution_count": 177,
   "id": "6ee0f4c7-ce9d-49cc-b189-8fb50d95dca2",
   "metadata": {},
   "outputs": [
    {
     "data": {
      "text/plain": [
       "0"
      ]
     },
     "execution_count": 177,
     "metadata": {},
     "output_type": "execute_result"
    }
   ],
   "source": [
    "df[\"Exam_Score\"].isnull().sum()"
   ]
  },
  {
   "cell_type": "code",
   "execution_count": 179,
   "id": "ff95c3c1-1d28-45ed-9522-a016e631547f",
   "metadata": {},
   "outputs": [
    {
     "data": {
      "text/plain": [
       "['Studied_Hours',\n",
       " 'Attendance',\n",
       " 'Parental_Involvement',\n",
       " 'Access_to_Resources',\n",
       " 'Extracurricular_Activities',\n",
       " 'Sleep_Hours',\n",
       " 'Previous_Scores',\n",
       " 'Motivation_Level',\n",
       " 'Internet_Access',\n",
       " 'Tutoring_Sessions',\n",
       " 'Family_Income',\n",
       " 'Teacher_Quality',\n",
       " 'School_Type',\n",
       " 'Peer_Influence',\n",
       " 'Physical_Activity',\n",
       " 'Learning_Disabilities',\n",
       " 'Parental_Education_Level',\n",
       " 'Distance_from_Home',\n",
       " 'Gender',\n",
       " 'Exam_Score']"
      ]
     },
     "execution_count": 179,
     "metadata": {},
     "output_type": "execute_result"
    }
   ],
   "source": [
    "df.columns.to_list()"
   ]
  },
  {
   "cell_type": "code",
   "execution_count": 96,
   "id": "c747cad8-ecf2-4d80-86e5-1e2925450c8a",
   "metadata": {},
   "outputs": [],
   "source": [
    "discrete=['Studied_Hours','Attendance','Parental_Involvement','Access_to_Resources',\n",
    " 'Extracurricular_Activities','Sleep_Hours','Previous_Scores','Motivation_Level',\n",
    " 'Internet_Access','Tutoring_Sessions','Family_Income','Teacher_Quality','School_Type',\n",
    " 'Peer_Influence','Physical_Activity','Learning_Disabilities','Parental_Education_Level',\n",
    " 'Distance_from_Home','Gender','Exam_Score']\n"
   ]
  },
  {
   "cell_type": "code",
   "execution_count": 183,
   "id": "731ef64a-d7c4-4b39-aad7-56f2a501dd2e",
   "metadata": {},
   "outputs": [
    {
     "data": {
      "text/plain": [
       "['Studied_Hours',\n",
       " 'Attendance',\n",
       " 'Parental_Involvement',\n",
       " 'Access_to_Resources',\n",
       " 'Extracurricular_Activities',\n",
       " 'Sleep_Hours',\n",
       " 'Previous_Scores',\n",
       " 'Motivation_Level',\n",
       " 'Internet_Access',\n",
       " 'Tutoring_Sessions',\n",
       " 'Family_Income',\n",
       " 'Teacher_Quality',\n",
       " 'School_Type',\n",
       " 'Peer_Influence',\n",
       " 'Physical_Activity',\n",
       " 'Learning_Disabilities',\n",
       " 'Parental_Education_Level',\n",
       " 'Distance_from_Home',\n",
       " 'Gender',\n",
       " 'Exam_Score']"
      ]
     },
     "execution_count": 183,
     "metadata": {},
     "output_type": "execute_result"
    }
   ],
   "source": [
    "discrete"
   ]
  },
  {
   "cell_type": "markdown",
   "id": "1d770975-5647-4e72-b804-93476159a6be",
   "metadata": {},
   "source": [
    "# step 3 Data Preprocessing"
   ]
  },
  {
   "cell_type": "code",
   "execution_count": null,
   "id": "382c0581-97f5-49e7-bafd-914d730960f5",
   "metadata": {},
   "outputs": [],
   "source": [
    "# Data cleaning\n",
    "# demension reduction\n",
    "# Data transformation"
   ]
  },
  {
   "cell_type": "code",
   "execution_count": 185,
   "id": "55889423-29d8-44c5-ab26-68b8d8b8a090",
   "metadata": {},
   "outputs": [
    {
     "data": {
      "text/plain": [
       "0"
      ]
     },
     "execution_count": 185,
     "metadata": {},
     "output_type": "execute_result"
    }
   ],
   "source": [
    "df.duplicated().sum()"
   ]
  },
  {
   "cell_type": "code",
   "execution_count": 187,
   "id": "bce6f97a-86d3-4303-922f-9e59b2680193",
   "metadata": {},
   "outputs": [
    {
     "data": {
      "text/plain": [
       "Studied_Hours                  0\n",
       "Attendance                     0\n",
       "Parental_Involvement           0\n",
       "Access_to_Resources            0\n",
       "Extracurricular_Activities     0\n",
       "Sleep_Hours                    0\n",
       "Previous_Scores                0\n",
       "Motivation_Level               0\n",
       "Internet_Access                0\n",
       "Tutoring_Sessions              0\n",
       "Family_Income                  0\n",
       "Teacher_Quality               78\n",
       "School_Type                    0\n",
       "Peer_Influence                 0\n",
       "Physical_Activity              0\n",
       "Learning_Disabilities          0\n",
       "Parental_Education_Level      90\n",
       "Distance_from_Home            67\n",
       "Gender                         0\n",
       "Exam_Score                     0\n",
       "dtype: int64"
      ]
     },
     "execution_count": 187,
     "metadata": {},
     "output_type": "execute_result"
    }
   ],
   "source": [
    "df.isnull().sum()"
   ]
  },
  {
   "cell_type": "code",
   "execution_count": 189,
   "id": "9de23c15-2101-4043-8300-da3b9f512761",
   "metadata": {},
   "outputs": [],
   "source": [
    "# in this columns some missing value\n",
    "missing_value=[\"Teacher_Quality\",\"Parental_Education_Level\",\"Distance_from_Home\"]"
   ]
  },
  {
   "cell_type": "code",
   "execution_count": 29,
   "id": "a7e4325b-42e2-49e3-b2ee-6723bf4547f5",
   "metadata": {},
   "outputs": [],
   "source": [
    "# fiil the missing value with mode\n",
    "df[\"Teacher_Quality\"]=df[\"Teacher_Quality\"].fillna(df[\"Teacher_Quality\"].mode()[0])\n",
    "df[\"Parental_Education_Level\"]=df[\"Parental_Education_Level\"].fillna(df[\"Parental_Education_Level\"].mode()[0])\n",
    "df[\"Distance_from_Home\"]=df[\"Distance_from_Home\"].fillna(df[\"Distance_from_Home\"].mode()[0])"
   ]
  },
  {
   "cell_type": "code",
   "execution_count": null,
   "id": "a2732914-dbf3-4691-90aa-9e240e077b9d",
   "metadata": {},
   "outputs": [],
   "source": []
  },
  {
   "cell_type": "code",
   "execution_count": 31,
   "id": "32e28c26-3d7c-4e96-9d6c-7f3c2a8ee6cf",
   "metadata": {},
   "outputs": [
    {
     "data": {
      "text/plain": [
       "Studied_Hours                 0\n",
       "Attendance                    0\n",
       "Parental_Involvement          0\n",
       "Access_to_Resources           0\n",
       "Extracurricular_Activities    0\n",
       "Sleep_Hours                   0\n",
       "Previous_Scores               0\n",
       "Motivation_Level              0\n",
       "Internet_Access               0\n",
       "Tutoring_Sessions             0\n",
       "Family_Income                 0\n",
       "Teacher_Quality               0\n",
       "School_Type                   0\n",
       "Peer_Influence                0\n",
       "Physical_Activity             0\n",
       "Learning_Disabilities         0\n",
       "Parental_Education_Level      0\n",
       "Distance_from_Home            0\n",
       "Gender                        0\n",
       "Exam_Score                    0\n",
       "dtype: int64"
      ]
     },
     "execution_count": 31,
     "metadata": {},
     "output_type": "execute_result"
    }
   ],
   "source": [
    "df.isnull().sum()"
   ]
  },
  {
   "cell_type": "markdown",
   "id": "71f1aedf-9b90-4a05-b3c6-d7d83ca90ada",
   "metadata": {},
   "source": [
    "# step 4 & 5 Data analysis & visualization"
   ]
  },
  {
   "cell_type": "code",
   "execution_count": 33,
   "id": "f0d0303a-65a9-429a-876d-41f06c31e2ee",
   "metadata": {},
   "outputs": [
    {
     "data": {
      "text/html": [
       "<div>\n",
       "<style scoped>\n",
       "    .dataframe tbody tr th:only-of-type {\n",
       "        vertical-align: middle;\n",
       "    }\n",
       "\n",
       "    .dataframe tbody tr th {\n",
       "        vertical-align: top;\n",
       "    }\n",
       "\n",
       "    .dataframe thead th {\n",
       "        text-align: right;\n",
       "    }\n",
       "</style>\n",
       "<table border=\"1\" class=\"dataframe\">\n",
       "  <thead>\n",
       "    <tr style=\"text-align: right;\">\n",
       "      <th></th>\n",
       "      <th>Studied_Hours</th>\n",
       "      <th>Attendance</th>\n",
       "      <th>Parental_Involvement</th>\n",
       "      <th>Access_to_Resources</th>\n",
       "      <th>Extracurricular_Activities</th>\n",
       "      <th>Sleep_Hours</th>\n",
       "      <th>Previous_Scores</th>\n",
       "      <th>Motivation_Level</th>\n",
       "      <th>Internet_Access</th>\n",
       "      <th>Tutoring_Sessions</th>\n",
       "      <th>Family_Income</th>\n",
       "      <th>Teacher_Quality</th>\n",
       "      <th>School_Type</th>\n",
       "      <th>Peer_Influence</th>\n",
       "      <th>Physical_Activity</th>\n",
       "      <th>Learning_Disabilities</th>\n",
       "      <th>Parental_Education_Level</th>\n",
       "      <th>Distance_from_Home</th>\n",
       "      <th>Gender</th>\n",
       "      <th>Exam_Score</th>\n",
       "    </tr>\n",
       "  </thead>\n",
       "  <tbody>\n",
       "    <tr>\n",
       "      <th>0</th>\n",
       "      <td>23</td>\n",
       "      <td>84</td>\n",
       "      <td>Low</td>\n",
       "      <td>High</td>\n",
       "      <td>No</td>\n",
       "      <td>7</td>\n",
       "      <td>73</td>\n",
       "      <td>Low</td>\n",
       "      <td>Yes</td>\n",
       "      <td>0</td>\n",
       "      <td>Low</td>\n",
       "      <td>Medium</td>\n",
       "      <td>Public</td>\n",
       "      <td>Positive</td>\n",
       "      <td>3</td>\n",
       "      <td>No</td>\n",
       "      <td>High School</td>\n",
       "      <td>Near</td>\n",
       "      <td>Male</td>\n",
       "      <td>67</td>\n",
       "    </tr>\n",
       "    <tr>\n",
       "      <th>1</th>\n",
       "      <td>19</td>\n",
       "      <td>64</td>\n",
       "      <td>Low</td>\n",
       "      <td>Medium</td>\n",
       "      <td>No</td>\n",
       "      <td>8</td>\n",
       "      <td>59</td>\n",
       "      <td>Low</td>\n",
       "      <td>Yes</td>\n",
       "      <td>2</td>\n",
       "      <td>Medium</td>\n",
       "      <td>Medium</td>\n",
       "      <td>Public</td>\n",
       "      <td>Negative</td>\n",
       "      <td>4</td>\n",
       "      <td>No</td>\n",
       "      <td>College</td>\n",
       "      <td>Moderate</td>\n",
       "      <td>Female</td>\n",
       "      <td>61</td>\n",
       "    </tr>\n",
       "  </tbody>\n",
       "</table>\n",
       "</div>"
      ],
      "text/plain": [
       "   Studied_Hours  Attendance Parental_Involvement Access_to_Resources  \\\n",
       "0             23          84                  Low                High   \n",
       "1             19          64                  Low              Medium   \n",
       "\n",
       "  Extracurricular_Activities  Sleep_Hours  Previous_Scores Motivation_Level  \\\n",
       "0                         No            7               73              Low   \n",
       "1                         No            8               59              Low   \n",
       "\n",
       "  Internet_Access  Tutoring_Sessions Family_Income Teacher_Quality  \\\n",
       "0             Yes                  0           Low          Medium   \n",
       "1             Yes                  2        Medium          Medium   \n",
       "\n",
       "  School_Type Peer_Influence  Physical_Activity Learning_Disabilities  \\\n",
       "0      Public       Positive                  3                    No   \n",
       "1      Public       Negative                  4                    No   \n",
       "\n",
       "  Parental_Education_Level Distance_from_Home  Gender  Exam_Score  \n",
       "0              High School               Near    Male          67  \n",
       "1                  College           Moderate  Female          61  "
      ]
     },
     "execution_count": 33,
     "metadata": {},
     "output_type": "execute_result"
    }
   ],
   "source": [
    "df.head(2)"
   ]
  },
  {
   "cell_type": "code",
   "execution_count": 35,
   "id": "a8ea4736-cb7f-4d88-bac2-5377d1a64e81",
   "metadata": {},
   "outputs": [
    {
     "data": {
      "text/html": [
       "<div>\n",
       "<style scoped>\n",
       "    .dataframe tbody tr th:only-of-type {\n",
       "        vertical-align: middle;\n",
       "    }\n",
       "\n",
       "    .dataframe tbody tr th {\n",
       "        vertical-align: top;\n",
       "    }\n",
       "\n",
       "    .dataframe thead th {\n",
       "        text-align: right;\n",
       "    }\n",
       "</style>\n",
       "<table border=\"1\" class=\"dataframe\">\n",
       "  <thead>\n",
       "    <tr style=\"text-align: right;\">\n",
       "      <th></th>\n",
       "      <th>Studied_Hours</th>\n",
       "      <th>Attendance</th>\n",
       "      <th>Sleep_Hours</th>\n",
       "      <th>Previous_Scores</th>\n",
       "      <th>Tutoring_Sessions</th>\n",
       "      <th>Physical_Activity</th>\n",
       "      <th>Exam_Score</th>\n",
       "    </tr>\n",
       "  </thead>\n",
       "  <tbody>\n",
       "    <tr>\n",
       "      <th>count</th>\n",
       "      <td>6607.000000</td>\n",
       "      <td>6607.000000</td>\n",
       "      <td>6607.00000</td>\n",
       "      <td>6607.000000</td>\n",
       "      <td>6607.000000</td>\n",
       "      <td>6607.000000</td>\n",
       "      <td>6607.000000</td>\n",
       "    </tr>\n",
       "    <tr>\n",
       "      <th>mean</th>\n",
       "      <td>19.975329</td>\n",
       "      <td>79.977448</td>\n",
       "      <td>7.02906</td>\n",
       "      <td>75.070531</td>\n",
       "      <td>1.493719</td>\n",
       "      <td>2.967610</td>\n",
       "      <td>67.235659</td>\n",
       "    </tr>\n",
       "    <tr>\n",
       "      <th>std</th>\n",
       "      <td>5.990594</td>\n",
       "      <td>11.547475</td>\n",
       "      <td>1.46812</td>\n",
       "      <td>14.399784</td>\n",
       "      <td>1.230570</td>\n",
       "      <td>1.031231</td>\n",
       "      <td>3.890456</td>\n",
       "    </tr>\n",
       "    <tr>\n",
       "      <th>min</th>\n",
       "      <td>1.000000</td>\n",
       "      <td>60.000000</td>\n",
       "      <td>4.00000</td>\n",
       "      <td>50.000000</td>\n",
       "      <td>0.000000</td>\n",
       "      <td>0.000000</td>\n",
       "      <td>55.000000</td>\n",
       "    </tr>\n",
       "    <tr>\n",
       "      <th>25%</th>\n",
       "      <td>16.000000</td>\n",
       "      <td>70.000000</td>\n",
       "      <td>6.00000</td>\n",
       "      <td>63.000000</td>\n",
       "      <td>1.000000</td>\n",
       "      <td>2.000000</td>\n",
       "      <td>65.000000</td>\n",
       "    </tr>\n",
       "    <tr>\n",
       "      <th>50%</th>\n",
       "      <td>20.000000</td>\n",
       "      <td>80.000000</td>\n",
       "      <td>7.00000</td>\n",
       "      <td>75.000000</td>\n",
       "      <td>1.000000</td>\n",
       "      <td>3.000000</td>\n",
       "      <td>67.000000</td>\n",
       "    </tr>\n",
       "    <tr>\n",
       "      <th>75%</th>\n",
       "      <td>24.000000</td>\n",
       "      <td>90.000000</td>\n",
       "      <td>8.00000</td>\n",
       "      <td>88.000000</td>\n",
       "      <td>2.000000</td>\n",
       "      <td>4.000000</td>\n",
       "      <td>69.000000</td>\n",
       "    </tr>\n",
       "    <tr>\n",
       "      <th>max</th>\n",
       "      <td>44.000000</td>\n",
       "      <td>100.000000</td>\n",
       "      <td>10.00000</td>\n",
       "      <td>100.000000</td>\n",
       "      <td>8.000000</td>\n",
       "      <td>6.000000</td>\n",
       "      <td>101.000000</td>\n",
       "    </tr>\n",
       "  </tbody>\n",
       "</table>\n",
       "</div>"
      ],
      "text/plain": [
       "       Studied_Hours   Attendance  Sleep_Hours  Previous_Scores  \\\n",
       "count    6607.000000  6607.000000   6607.00000      6607.000000   \n",
       "mean       19.975329    79.977448      7.02906        75.070531   \n",
       "std         5.990594    11.547475      1.46812        14.399784   \n",
       "min         1.000000    60.000000      4.00000        50.000000   \n",
       "25%        16.000000    70.000000      6.00000        63.000000   \n",
       "50%        20.000000    80.000000      7.00000        75.000000   \n",
       "75%        24.000000    90.000000      8.00000        88.000000   \n",
       "max        44.000000   100.000000     10.00000       100.000000   \n",
       "\n",
       "       Tutoring_Sessions  Physical_Activity   Exam_Score  \n",
       "count        6607.000000        6607.000000  6607.000000  \n",
       "mean            1.493719           2.967610    67.235659  \n",
       "std             1.230570           1.031231     3.890456  \n",
       "min             0.000000           0.000000    55.000000  \n",
       "25%             1.000000           2.000000    65.000000  \n",
       "50%             1.000000           3.000000    67.000000  \n",
       "75%             2.000000           4.000000    69.000000  \n",
       "max             8.000000           6.000000   101.000000  "
      ]
     },
     "execution_count": 35,
     "metadata": {},
     "output_type": "execute_result"
    }
   ],
   "source": [
    "df.describe()"
   ]
  },
  {
   "cell_type": "code",
   "execution_count": 39,
   "id": "02407c16-9e9a-49e6-9c71-f00e0c035822",
   "metadata": {},
   "outputs": [
    {
     "data": {
      "text/html": [
       "<div>\n",
       "<style scoped>\n",
       "    .dataframe tbody tr th:only-of-type {\n",
       "        vertical-align: middle;\n",
       "    }\n",
       "\n",
       "    .dataframe tbody tr th {\n",
       "        vertical-align: top;\n",
       "    }\n",
       "\n",
       "    .dataframe thead th {\n",
       "        text-align: right;\n",
       "    }\n",
       "</style>\n",
       "<table border=\"1\" class=\"dataframe\">\n",
       "  <thead>\n",
       "    <tr style=\"text-align: right;\">\n",
       "      <th></th>\n",
       "      <th>count</th>\n",
       "      <th>unique</th>\n",
       "      <th>top</th>\n",
       "      <th>freq</th>\n",
       "    </tr>\n",
       "  </thead>\n",
       "  <tbody>\n",
       "    <tr>\n",
       "      <th>Parental_Involvement</th>\n",
       "      <td>6607</td>\n",
       "      <td>3</td>\n",
       "      <td>Medium</td>\n",
       "      <td>3362</td>\n",
       "    </tr>\n",
       "    <tr>\n",
       "      <th>Access_to_Resources</th>\n",
       "      <td>6607</td>\n",
       "      <td>3</td>\n",
       "      <td>Medium</td>\n",
       "      <td>3319</td>\n",
       "    </tr>\n",
       "    <tr>\n",
       "      <th>Extracurricular_Activities</th>\n",
       "      <td>6607</td>\n",
       "      <td>2</td>\n",
       "      <td>Yes</td>\n",
       "      <td>3938</td>\n",
       "    </tr>\n",
       "    <tr>\n",
       "      <th>Motivation_Level</th>\n",
       "      <td>6607</td>\n",
       "      <td>3</td>\n",
       "      <td>Medium</td>\n",
       "      <td>3351</td>\n",
       "    </tr>\n",
       "    <tr>\n",
       "      <th>Internet_Access</th>\n",
       "      <td>6607</td>\n",
       "      <td>2</td>\n",
       "      <td>Yes</td>\n",
       "      <td>6108</td>\n",
       "    </tr>\n",
       "    <tr>\n",
       "      <th>Family_Income</th>\n",
       "      <td>6607</td>\n",
       "      <td>3</td>\n",
       "      <td>Low</td>\n",
       "      <td>2672</td>\n",
       "    </tr>\n",
       "    <tr>\n",
       "      <th>Teacher_Quality</th>\n",
       "      <td>6607</td>\n",
       "      <td>3</td>\n",
       "      <td>Medium</td>\n",
       "      <td>4003</td>\n",
       "    </tr>\n",
       "    <tr>\n",
       "      <th>School_Type</th>\n",
       "      <td>6607</td>\n",
       "      <td>2</td>\n",
       "      <td>Public</td>\n",
       "      <td>4598</td>\n",
       "    </tr>\n",
       "    <tr>\n",
       "      <th>Peer_Influence</th>\n",
       "      <td>6607</td>\n",
       "      <td>3</td>\n",
       "      <td>Positive</td>\n",
       "      <td>2638</td>\n",
       "    </tr>\n",
       "    <tr>\n",
       "      <th>Learning_Disabilities</th>\n",
       "      <td>6607</td>\n",
       "      <td>2</td>\n",
       "      <td>No</td>\n",
       "      <td>5912</td>\n",
       "    </tr>\n",
       "    <tr>\n",
       "      <th>Parental_Education_Level</th>\n",
       "      <td>6607</td>\n",
       "      <td>3</td>\n",
       "      <td>High School</td>\n",
       "      <td>3313</td>\n",
       "    </tr>\n",
       "    <tr>\n",
       "      <th>Distance_from_Home</th>\n",
       "      <td>6607</td>\n",
       "      <td>3</td>\n",
       "      <td>Near</td>\n",
       "      <td>3951</td>\n",
       "    </tr>\n",
       "    <tr>\n",
       "      <th>Gender</th>\n",
       "      <td>6607</td>\n",
       "      <td>2</td>\n",
       "      <td>Male</td>\n",
       "      <td>3814</td>\n",
       "    </tr>\n",
       "  </tbody>\n",
       "</table>\n",
       "</div>"
      ],
      "text/plain": [
       "                           count unique          top  freq\n",
       "Parental_Involvement        6607      3       Medium  3362\n",
       "Access_to_Resources         6607      3       Medium  3319\n",
       "Extracurricular_Activities  6607      2          Yes  3938\n",
       "Motivation_Level            6607      3       Medium  3351\n",
       "Internet_Access             6607      2          Yes  6108\n",
       "Family_Income               6607      3          Low  2672\n",
       "Teacher_Quality             6607      3       Medium  4003\n",
       "School_Type                 6607      2       Public  4598\n",
       "Peer_Influence              6607      3     Positive  2638\n",
       "Learning_Disabilities       6607      2           No  5912\n",
       "Parental_Education_Level    6607      3  High School  3313\n",
       "Distance_from_Home          6607      3         Near  3951\n",
       "Gender                      6607      2         Male  3814"
      ]
     },
     "execution_count": 39,
     "metadata": {},
     "output_type": "execute_result"
    }
   ],
   "source": [
    "df.describe(include=\"object\").T"
   ]
  },
  {
   "cell_type": "code",
   "execution_count": 21,
   "id": "e74abb0e-912f-4a50-93c9-82116ff3edbf",
   "metadata": {},
   "outputs": [
    {
     "data": {
      "text/html": [
       "<div>\n",
       "<style scoped>\n",
       "    .dataframe tbody tr th:only-of-type {\n",
       "        vertical-align: middle;\n",
       "    }\n",
       "\n",
       "    .dataframe tbody tr th {\n",
       "        vertical-align: top;\n",
       "    }\n",
       "\n",
       "    .dataframe thead th {\n",
       "        text-align: right;\n",
       "    }\n",
       "</style>\n",
       "<table border=\"1\" class=\"dataframe\">\n",
       "  <thead>\n",
       "    <tr style=\"text-align: right;\">\n",
       "      <th></th>\n",
       "      <th>Studied_Hours</th>\n",
       "      <th>Exam_Score</th>\n",
       "    </tr>\n",
       "  </thead>\n",
       "  <tbody>\n",
       "    <tr>\n",
       "      <th>Studied_Hours</th>\n",
       "      <td>1.000000</td>\n",
       "      <td>0.445455</td>\n",
       "    </tr>\n",
       "    <tr>\n",
       "      <th>Exam_Score</th>\n",
       "      <td>0.445455</td>\n",
       "      <td>1.000000</td>\n",
       "    </tr>\n",
       "  </tbody>\n",
       "</table>\n",
       "</div>"
      ],
      "text/plain": [
       "               Studied_Hours  Exam_Score\n",
       "Studied_Hours       1.000000    0.445455\n",
       "Exam_Score          0.445455    1.000000"
      ]
     },
     "execution_count": 21,
     "metadata": {},
     "output_type": "execute_result"
    }
   ],
   "source": [
    "score=df[[\"Studied_Hours\",\"Exam_Score\"]].corr()\n",
    "score"
   ]
  },
  {
   "cell_type": "code",
   "execution_count": 77,
   "id": "acb23f61-2cc0-4662-84df-fef519f48dae",
   "metadata": {},
   "outputs": [
    {
     "data": {
      "image/png": "[encoded data removed]",
      "text/plain": [
       "<Figure size 640x480 with 2 Axes>"
      ]
     },
     "metadata": {},
     "output_type": "display_data"
    }
   ],
   "source": [
    "sns.heatmap(score ,annot=True)\n",
    "plt.title(\"Correlation b/w Studied_Hours&Exam_Score\")\n",
    "plt.savefig(\"Studied_HoursExam_Score.jpg\")\n",
    "plt.show()"
   ]
  },
  {
   "cell_type": "code",
   "execution_count": null,
   "id": "5d90f9b5-cb0e-42f2-8982-7cf7202bd80b",
   "metadata": {},
   "outputs": [],
   "source": [
    "# the correlation b/w studied_ hours and Exam_score is weak correlation \n",
    "# so that there is some effect on exam_score  due to the studied_hours."
   ]
  },
  {
   "cell_type": "code",
   "execution_count": null,
   "id": "a40f2adb-e5ae-40b8-82c4-7fa53b49bfc2",
   "metadata": {},
   "outputs": [],
   "source": []
  },
  {
   "cell_type": "code",
   "execution_count": 215,
   "id": "62982c0a-1a21-4154-a842-70a0a65ea96a",
   "metadata": {},
   "outputs": [
    {
     "data": {
      "text/html": [
       "<div>\n",
       "<style scoped>\n",
       "    .dataframe tbody tr th:only-of-type {\n",
       "        vertical-align: middle;\n",
       "    }\n",
       "\n",
       "    .dataframe tbody tr th {\n",
       "        vertical-align: top;\n",
       "    }\n",
       "\n",
       "    .dataframe thead th {\n",
       "        text-align: right;\n",
       "    }\n",
       "</style>\n",
       "<table border=\"1\" class=\"dataframe\">\n",
       "  <thead>\n",
       "    <tr style=\"text-align: right;\">\n",
       "      <th></th>\n",
       "      <th>Attendance</th>\n",
       "      <th>Exam_Score</th>\n",
       "    </tr>\n",
       "  </thead>\n",
       "  <tbody>\n",
       "    <tr>\n",
       "      <th>Attendance</th>\n",
       "      <td>1.000000</td>\n",
       "      <td>0.581072</td>\n",
       "    </tr>\n",
       "    <tr>\n",
       "      <th>Exam_Score</th>\n",
       "      <td>0.581072</td>\n",
       "      <td>1.000000</td>\n",
       "    </tr>\n",
       "  </tbody>\n",
       "</table>\n",
       "</div>"
      ],
      "text/plain": [
       "            Attendance  Exam_Score\n",
       "Attendance    1.000000    0.581072\n",
       "Exam_Score    0.581072    1.000000"
      ]
     },
     "execution_count": 215,
     "metadata": {},
     "output_type": "execute_result"
    }
   ],
   "source": [
    " df[[\"Attendance\",\"Exam_Score\"]].corr()"
   ]
  },
  {
   "cell_type": "code",
   "execution_count": 35,
   "id": "59538159-45da-414d-92de-40bcfcf59e0f",
   "metadata": {},
   "outputs": [
    {
     "data": {
      "text/html": [
       "<div>\n",
       "<style scoped>\n",
       "    .dataframe tbody tr th:only-of-type {\n",
       "        vertical-align: middle;\n",
       "    }\n",
       "\n",
       "    .dataframe tbody tr th {\n",
       "        vertical-align: top;\n",
       "    }\n",
       "\n",
       "    .dataframe thead th {\n",
       "        text-align: right;\n",
       "    }\n",
       "</style>\n",
       "<table border=\"1\" class=\"dataframe\">\n",
       "  <thead>\n",
       "    <tr style=\"text-align: right;\">\n",
       "      <th></th>\n",
       "      <th>Attendance</th>\n",
       "      <th>Exam_Score</th>\n",
       "    </tr>\n",
       "  </thead>\n",
       "  <tbody>\n",
       "    <tr>\n",
       "      <th>Attendance</th>\n",
       "      <td>1.000000</td>\n",
       "      <td>0.581072</td>\n",
       "    </tr>\n",
       "    <tr>\n",
       "      <th>Exam_Score</th>\n",
       "      <td>0.581072</td>\n",
       "      <td>1.000000</td>\n",
       "    </tr>\n",
       "  </tbody>\n",
       "</table>\n",
       "</div>"
      ],
      "text/plain": [
       "            Attendance  Exam_Score\n",
       "Attendance    1.000000    0.581072\n",
       "Exam_Score    0.581072    1.000000"
      ]
     },
     "execution_count": 35,
     "metadata": {},
     "output_type": "execute_result"
    }
   ],
   "source": [
    "score= df[[\"Attendance\",\"Exam_Score\"]].corr()\n",
    "score"
   ]
  },
  {
   "cell_type": "code",
   "execution_count": 75,
   "id": "a7276d18-bc1c-40b2-aa2a-cc9acad4bb2a",
   "metadata": {},
   "outputs": [
    {
     "data": {
      "image/png": "[encoded data removed]",
      "text/plain": [
       "<Figure size 640x480 with 2 Axes>"
      ]
     },
     "metadata": {},
     "output_type": "display_data"
    }
   ],
   "source": [
    "sns.heatmap(score ,annot=True)\n",
    "plt.title(\"Correlation b/w Attendance & Exam_Score\")\n",
    "plt.savefig(\"AttendanceExam_Score.jpg\")\n",
    "plt.show()"
   ]
  },
  {
   "cell_type": "code",
   "execution_count": null,
   "id": "75849e8a-f8ea-4565-9375-9a973947f639",
   "metadata": {},
   "outputs": [],
   "source": [
    "# the correlation b/w attendance and Exam_score is moderate correlation \n",
    "# so that there is few effect on exam_score  due to the attendance."
   ]
  },
  {
   "cell_type": "code",
   "execution_count": null,
   "id": "a0d9d881-5d13-4f79-95cf-909d1070965a",
   "metadata": {},
   "outputs": [],
   "source": []
  },
  {
   "cell_type": "code",
   "execution_count": 131,
   "id": "26a7f57d-1476-4332-aea2-752478fbf05a",
   "metadata": {},
   "outputs": [
    {
     "data": {
      "text/plain": [
       "Parental_Involvement\n",
       "High      57\n",
       "Low       56\n",
       "Medium    55\n",
       "Name: Exam_Score, dtype: int64"
      ]
     },
     "execution_count": 131,
     "metadata": {},
     "output_type": "execute_result"
    }
   ],
   "source": [
    "df.groupby(\"Parental_Involvement\")[\"Exam_Score\"].min()"
   ]
  },
  {
   "cell_type": "code",
   "execution_count": 133,
   "id": "52a1f0d5-5392-44b7-b0bf-64b9d3ed31b1",
   "metadata": {},
   "outputs": [
    {
     "data": {
      "text/plain": [
       "Parental_Involvement\n",
       "High      100\n",
       "Low       101\n",
       "Medium     97\n",
       "Name: Exam_Score, dtype: int64"
      ]
     },
     "execution_count": 133,
     "metadata": {},
     "output_type": "execute_result"
    }
   ],
   "source": [
    "df.groupby(\"Parental_Involvement\")[\"Exam_Score\"].max()"
   ]
  },
  {
   "cell_type": "code",
   "execution_count": 135,
   "id": "1b56788d-5b40-428f-b925-c7a6e5d8b978",
   "metadata": {},
   "outputs": [
    {
     "data": {
      "text/plain": [
       "Parental_Involvement\n",
       "High      68.092767\n",
       "Low       66.358265\n",
       "Medium    67.098156\n",
       "Name: Exam_Score, dtype: float64"
      ]
     },
     "execution_count": 135,
     "metadata": {},
     "output_type": "execute_result"
    }
   ],
   "source": [
    "df.groupby(\"Parental_Involvement\")[\"Exam_Score\"].mean()"
   ]
  },
  {
   "cell_type": "code",
   "execution_count": null,
   "id": "24ca90f1-3eb6-4166-b08f-338df51b2f1e",
   "metadata": {},
   "outputs": [],
   "source": [
    "# the mean,minmum,maximum exam_score is not effected by Parental_Involvement\n",
    "# so that there is no effect on exam_score  due to the Parental_Involvement."
   ]
  },
  {
   "cell_type": "code",
   "execution_count": 11,
   "id": "cc9c8af0-dc81-490c-99ed-deb3e9c28233",
   "metadata": {},
   "outputs": [
    {
     "data": {
      "image/png": "[encoded data removed]",
      "text/plain": [
       "<Figure size 511.111x500 with 1 Axes>"
      ]
     },
     "metadata": {},
     "output_type": "display_data"
    },
    {
     "data": {
      "text/plain": [
       "<Figure size 640x480 with 0 Axes>"
      ]
     },
     "metadata": {},
     "output_type": "display_data"
    }
   ],
   "source": [
    "sns.catplot(x=\"Parental_Involvement\",y=\"Exam_Score\",data=df,kind=\"bar\",color=\"y\")\n",
    "plt.show()\n",
    "plt.savefig(\"Parental_Involvement.jpg\")"
   ]
  },
  {
   "cell_type": "code",
   "execution_count": null,
   "id": "06c113bc-2e3d-4b71-aba4-c6ee8572f4d0",
   "metadata": {},
   "outputs": [],
   "source": [
    "# the mean,minmum,maximum exam_score is not effected by Access_to_Resources\n",
    "# so that there is no effect on exam_score  due to the Access_to_Resources."
   ]
  },
  {
   "cell_type": "code",
   "execution_count": 137,
   "id": "7e2b44cc-16bb-4a2b-93ee-606a05e1b5b4",
   "metadata": {},
   "outputs": [
    {
     "data": {
      "text/plain": [
       "Access_to_Resources\n",
       "High      68.092152\n",
       "Low       66.203351\n",
       "Medium    67.134378\n",
       "Name: Exam_Score, dtype: float64"
      ]
     },
     "execution_count": 137,
     "metadata": {},
     "output_type": "execute_result"
    }
   ],
   "source": [
    "df.groupby(\"Access_to_Resources\")[\"Exam_Score\"].mean()"
   ]
  },
  {
   "cell_type": "code",
   "execution_count": 141,
   "id": "fa1303af-3070-4aad-8768-ea43f1df70df",
   "metadata": {},
   "outputs": [
    {
     "data": {
      "text/plain": [
       "Access_to_Resources\n",
       "High      56\n",
       "Low       55\n",
       "Medium    58\n",
       "Name: Exam_Score, dtype: int64"
      ]
     },
     "execution_count": 141,
     "metadata": {},
     "output_type": "execute_result"
    }
   ],
   "source": [
    "df.groupby(\"Access_to_Resources\")[\"Exam_Score\"].min()"
   ]
  },
  {
   "cell_type": "code",
   "execution_count": 139,
   "id": "3bcdec0c-ed85-4259-84ae-32f87efce2c9",
   "metadata": {},
   "outputs": [
    {
     "data": {
      "text/plain": [
       "Access_to_Resources\n",
       "High       99\n",
       "Low        98\n",
       "Medium    101\n",
       "Name: Exam_Score, dtype: int64"
      ]
     },
     "execution_count": 139,
     "metadata": {},
     "output_type": "execute_result"
    }
   ],
   "source": [
    "df.groupby(\"Access_to_Resources\")[\"Exam_Score\"].max()"
   ]
  },
  {
   "cell_type": "code",
   "execution_count": null,
   "id": "45a0b1c0-be83-48ed-8c06-8142f5ca34d4",
   "metadata": {},
   "outputs": [],
   "source": []
  },
  {
   "cell_type": "code",
   "execution_count": 17,
   "id": "d8648f8b-eef2-4399-8144-27fbe4f3e3f6",
   "metadata": {},
   "outputs": [
    {
     "data": {
      "image/png": "[encoded data removed]",
      "text/plain": [
       "<Figure size 511.111x500 with 1 Axes>"
      ]
     },
     "metadata": {},
     "output_type": "display_data"
    }
   ],
   "source": [
    "sns.catplot(x=\"Access_to_Resources\",y=\"Exam_Score\",data=df,kind=\"bar\")\n",
    "plt.savefig(\"Access_to_Resources.jpg\")\n",
    "plt.show()\n"
   ]
  },
  {
   "cell_type": "code",
   "execution_count": null,
   "id": "80035c3c-32ab-4dc4-831a-3f92bafdc7aa",
   "metadata": {},
   "outputs": [],
   "source": []
  },
  {
   "cell_type": "code",
   "execution_count": 173,
   "id": "092e7fe7-4212-4b6b-baa7-bc9830b5f680",
   "metadata": {},
   "outputs": [
    {
     "data": {
      "text/plain": [
       "Extracurricular_Activities\n",
       "No     55\n",
       "Yes    57\n",
       "Name: Exam_Score, dtype: int64"
      ]
     },
     "execution_count": 173,
     "metadata": {},
     "output_type": "execute_result"
    }
   ],
   "source": [
    "df.groupby(\"Extracurricular_Activities\")[\"Exam_Score\"].min()"
   ]
  },
  {
   "cell_type": "code",
   "execution_count": 177,
   "id": "63555720-6e8a-423d-b603-eff474a0b2d5",
   "metadata": {},
   "outputs": [
    {
     "data": {
      "text/plain": [
       "Extracurricular_Activities\n",
       "No      97\n",
       "Yes    101\n",
       "Name: Exam_Score, dtype: int64"
      ]
     },
     "execution_count": 177,
     "metadata": {},
     "output_type": "execute_result"
    }
   ],
   "source": [
    "df.groupby(\"Extracurricular_Activities\")[\"Exam_Score\"].max()"
   ]
  },
  {
   "cell_type": "code",
   "execution_count": 175,
   "id": "ab2a1d76-300e-4389-9dbd-0d8bc05cb874",
   "metadata": {},
   "outputs": [
    {
     "data": {
      "text/plain": [
       "Extracurricular_Activities\n",
       "No     66.931435\n",
       "Yes    67.441849\n",
       "Name: Exam_Score, dtype: float64"
      ]
     },
     "execution_count": 175,
     "metadata": {},
     "output_type": "execute_result"
    }
   ],
   "source": [
    "df.groupby(\"Extracurricular_Activities\")[\"Exam_Score\"].mean()"
   ]
  },
  {
   "cell_type": "code",
   "execution_count": null,
   "id": "69d390c1-f3aa-4c3a-9506-77de874e2518",
   "metadata": {},
   "outputs": [],
   "source": [
    "# the mean,minmum,maximum exam_score is not effected by Extracurricular_Activities\n",
    "# so that there is no effect on exam_score  due to the Extracurricular_Activities."
   ]
  },
  {
   "cell_type": "code",
   "execution_count": 183,
   "id": "2d24fb73-084d-474d-b55e-55ccf06397e6",
   "metadata": {},
   "outputs": [
    {
     "data": {
      "text/plain": [
       "<seaborn.axisgrid.FacetGrid at 0x28ccaa54620>"
      ]
     },
     "execution_count": 183,
     "metadata": {},
     "output_type": "execute_result"
    },
    {
     "data": {
      "image/png": "[encoded data removed]",
      "text/plain": [
       "<Figure size 511.111x500 with 1 Axes>"
      ]
     },
     "metadata": {},
     "output_type": "display_data"
    }
   ],
   "source": [
    "sns.catplot(x=\"Extracurricular_Activities\",y=\"Exam_Score\",data=df,kind=\"bar\")"
   ]
  },
  {
   "cell_type": "code",
   "execution_count": null,
   "id": "55703a82-43af-43a0-ac9a-96cf0f40f6f6",
   "metadata": {},
   "outputs": [],
   "source": []
  },
  {
   "cell_type": "code",
   "execution_count": 43,
   "id": "94d095e2-2b2f-482f-8fc5-c09222b7ad0f",
   "metadata": {},
   "outputs": [
    {
     "data": {
      "text/html": [
       "<div>\n",
       "<style scoped>\n",
       "    .dataframe tbody tr th:only-of-type {\n",
       "        vertical-align: middle;\n",
       "    }\n",
       "\n",
       "    .dataframe tbody tr th {\n",
       "        vertical-align: top;\n",
       "    }\n",
       "\n",
       "    .dataframe thead th {\n",
       "        text-align: right;\n",
       "    }\n",
       "</style>\n",
       "<table border=\"1\" class=\"dataframe\">\n",
       "  <thead>\n",
       "    <tr style=\"text-align: right;\">\n",
       "      <th></th>\n",
       "      <th>Sleep_Hours</th>\n",
       "      <th>Exam_Score</th>\n",
       "    </tr>\n",
       "  </thead>\n",
       "  <tbody>\n",
       "    <tr>\n",
       "      <th>Sleep_Hours</th>\n",
       "      <td>1.000000</td>\n",
       "      <td>-0.017022</td>\n",
       "    </tr>\n",
       "    <tr>\n",
       "      <th>Exam_Score</th>\n",
       "      <td>-0.017022</td>\n",
       "      <td>1.000000</td>\n",
       "    </tr>\n",
       "  </tbody>\n",
       "</table>\n",
       "</div>"
      ],
      "text/plain": [
       "             Sleep_Hours  Exam_Score\n",
       "Sleep_Hours     1.000000   -0.017022\n",
       "Exam_Score     -0.017022    1.000000"
      ]
     },
     "execution_count": 43,
     "metadata": {},
     "output_type": "execute_result"
    }
   ],
   "source": [
    "corr=df[[\"Sleep_Hours\",\"Exam_Score\"]].corr()\n",
    "corr\n"
   ]
  },
  {
   "cell_type": "code",
   "execution_count": 73,
   "id": "7f53de3b-fecb-4eb0-b2eb-a7f602fac434",
   "metadata": {},
   "outputs": [
    {
     "data": {
      "image/png": "[encoded data removed]",
      "text/plain": [
       "<Figure size 640x480 with 2 Axes>"
      ]
     },
     "metadata": {},
     "output_type": "display_data"
    }
   ],
   "source": [
    "sns.heatmap(corr,annot=True)\n",
    "plt.title(\"Correlation b/w Sleep_Hours\t& Exam_Score\")\n",
    "plt.savefig(\"Sleep_HourExam_Score\")\n",
    "plt.show()"
   ]
  },
  {
   "cell_type": "code",
   "execution_count": null,
   "id": "a7fb0b38-be72-4204-9959-032f837626cd",
   "metadata": {},
   "outputs": [],
   "source": [
    "# the correlation b/w Sleep_Hours and Exam_score is (-ve) correlation \n",
    "# so that there is few effect on exam_score  due to the sleep_hours.\n",
    "# if student sleep_hours is more atumatically thier exam score is less  that s means vice versa"
   ]
  },
  {
   "cell_type": "code",
   "execution_count": null,
   "id": "7eeb6c61-063b-4941-abce-15c18ce2261b",
   "metadata": {},
   "outputs": [],
   "source": []
  },
  {
   "cell_type": "code",
   "execution_count": 219,
   "id": "bd64a682-5351-4b33-8ff4-97c188033e80",
   "metadata": {},
   "outputs": [
    {
     "data": {
      "text/html": [
       "<div>\n",
       "<style scoped>\n",
       "    .dataframe tbody tr th:only-of-type {\n",
       "        vertical-align: middle;\n",
       "    }\n",
       "\n",
       "    .dataframe tbody tr th {\n",
       "        vertical-align: top;\n",
       "    }\n",
       "\n",
       "    .dataframe thead th {\n",
       "        text-align: right;\n",
       "    }\n",
       "</style>\n",
       "<table border=\"1\" class=\"dataframe\">\n",
       "  <thead>\n",
       "    <tr style=\"text-align: right;\">\n",
       "      <th></th>\n",
       "      <th>Previous_Scores</th>\n",
       "      <th>Exam_Score</th>\n",
       "    </tr>\n",
       "  </thead>\n",
       "  <tbody>\n",
       "    <tr>\n",
       "      <th>Previous_Scores</th>\n",
       "      <td>1.000000</td>\n",
       "      <td>0.175079</td>\n",
       "    </tr>\n",
       "    <tr>\n",
       "      <th>Exam_Score</th>\n",
       "      <td>0.175079</td>\n",
       "      <td>1.000000</td>\n",
       "    </tr>\n",
       "  </tbody>\n",
       "</table>\n",
       "</div>"
      ],
      "text/plain": [
       "                 Previous_Scores  Exam_Score\n",
       "Previous_Scores         1.000000    0.175079\n",
       "Exam_Score              0.175079    1.000000"
      ]
     },
     "execution_count": 219,
     "metadata": {},
     "output_type": "execute_result"
    }
   ],
   "source": [
    "corr=df[[\"Previous_Scores\",\"Exam_Score\"]].corr()\n",
    "corr\n"
   ]
  },
  {
   "cell_type": "code",
   "execution_count": 221,
   "id": "b1dd7610-e70b-48ff-b97c-bd23388999a9",
   "metadata": {},
   "outputs": [
    {
     "data": {
      "text/plain": [
       "<Axes: >"
      ]
     },
     "execution_count": 221,
     "metadata": {},
     "output_type": "execute_result"
    },
    {
     "data": {
      "image/png": "[encoded data removed]",
      "text/plain": [
       "<Figure size 640x480 with 2 Axes>"
      ]
     },
     "metadata": {},
     "output_type": "display_data"
    }
   ],
   "source": [
    "sns.heatmap(corr,annot=True)"
   ]
  },
  {
   "cell_type": "code",
   "execution_count": null,
   "id": "ffcdb624-c2d5-4ac2-bb57-c325bbf0dab2",
   "metadata": {},
   "outputs": [],
   "source": [
    "# the correlation b/w previous_Scores and Exam_score is weak correlation \n",
    "# so that there is few effect on exam_score  due to the previous_Scores."
   ]
  },
  {
   "cell_type": "code",
   "execution_count": null,
   "id": "cc14057b-671d-4f9f-999b-ce188599cf74",
   "metadata": {},
   "outputs": [],
   "source": []
  },
  {
   "cell_type": "code",
   "execution_count": 223,
   "id": "4029009c-c97d-4f2d-89cb-14b42ab52220",
   "metadata": {},
   "outputs": [
    {
     "data": {
      "text/plain": [
       "Motivation_Level\n",
       "High       98\n",
       "Low       101\n",
       "Medium    100\n",
       "Name: Exam_Score, dtype: int64"
      ]
     },
     "execution_count": 223,
     "metadata": {},
     "output_type": "execute_result"
    }
   ],
   "source": [
    "df.groupby(\"Motivation_Level\")[\"Exam_Score\"].max()"
   ]
  },
  {
   "cell_type": "code",
   "execution_count": 225,
   "id": "0d88409f-b0ac-4de8-804b-7f34220e59d7",
   "metadata": {},
   "outputs": [
    {
     "data": {
      "text/plain": [
       "Motivation_Level\n",
       "High      57\n",
       "Low       57\n",
       "Medium    55\n",
       "Name: Exam_Score, dtype: int64"
      ]
     },
     "execution_count": 225,
     "metadata": {},
     "output_type": "execute_result"
    }
   ],
   "source": [
    "df.groupby(\"Motivation_Level\")[\"Exam_Score\"].min()"
   ]
  },
  {
   "cell_type": "code",
   "execution_count": 227,
   "id": "0d36bee3-029e-4f34-a854-21bff10f35e0",
   "metadata": {},
   "outputs": [
    {
     "data": {
      "text/plain": [
       "Motivation_Level\n",
       "High      67.704321\n",
       "Low       66.752194\n",
       "Medium    67.330648\n",
       "Name: Exam_Score, dtype: float64"
      ]
     },
     "execution_count": 227,
     "metadata": {},
     "output_type": "execute_result"
    }
   ],
   "source": [
    "df.groupby(\"Motivation_Level\")[\"Exam_Score\"].mean()"
   ]
  },
  {
   "cell_type": "code",
   "execution_count": null,
   "id": "c6fdcdf3-367a-48d0-ab7b-55f761acf5de",
   "metadata": {},
   "outputs": [],
   "source": [
    "# the mean,minmum,maximum exam_score is not effected by Motivation_Level\n",
    "# so that there is no effect on exam_score  due to the Motivation_Level."
   ]
  },
  {
   "cell_type": "code",
   "execution_count": 231,
   "id": "ca28c467-e67f-4962-8d2f-8e37a3dd055b",
   "metadata": {},
   "outputs": [
    {
     "data": {
      "image/png": "[encoded data removed]",
      "text/plain": [
       "<Figure size 511.111x500 with 1 Axes>"
      ]
     },
     "metadata": {},
     "output_type": "display_data"
    }
   ],
   "source": [
    "sns.catplot(x=\"Motivation_Level\",y=\"Exam_Score\",data=df,kind=\"bar\")\n",
    "plt.show()"
   ]
  },
  {
   "cell_type": "code",
   "execution_count": null,
   "id": "3d6ec98a-faf3-4dfc-b6eb-3f6aa59a1435",
   "metadata": {},
   "outputs": [],
   "source": []
  },
  {
   "cell_type": "code",
   "execution_count": 233,
   "id": "1ae07c99-7c53-41ce-8c75-291543e3672b",
   "metadata": {},
   "outputs": [
    {
     "data": {
      "text/plain": [
       "Internet_Access\n",
       "No     101\n",
       "Yes    100\n",
       "Name: Exam_Score, dtype: int64"
      ]
     },
     "execution_count": 233,
     "metadata": {},
     "output_type": "execute_result"
    }
   ],
   "source": [
    "df.groupby(\"Internet_Access\")[\"Exam_Score\"].max()"
   ]
  },
  {
   "cell_type": "code",
   "execution_count": 235,
   "id": "bc50f775-6c15-4da7-88b3-7c446398f61c",
   "metadata": {},
   "outputs": [
    {
     "data": {
      "text/plain": [
       "Internet_Access\n",
       "No     58\n",
       "Yes    55\n",
       "Name: Exam_Score, dtype: int64"
      ]
     },
     "execution_count": 235,
     "metadata": {},
     "output_type": "execute_result"
    }
   ],
   "source": [
    "df.groupby(\"Internet_Access\")[\"Exam_Score\"].min()"
   ]
  },
  {
   "cell_type": "code",
   "execution_count": 237,
   "id": "bba74c65-21fc-42ba-b4c8-621373499077",
   "metadata": {},
   "outputs": [
    {
     "data": {
      "text/plain": [
       "Internet_Access\n",
       "No     66.535070\n",
       "Yes    67.292895\n",
       "Name: Exam_Score, dtype: float64"
      ]
     },
     "execution_count": 237,
     "metadata": {},
     "output_type": "execute_result"
    }
   ],
   "source": [
    "df.groupby(\"Internet_Access\")[\"Exam_Score\"].mean()"
   ]
  },
  {
   "cell_type": "code",
   "execution_count": null,
   "id": "dd6fca73-9461-48d7-92ba-f07d4e564454",
   "metadata": {},
   "outputs": [],
   "source": [
    "# the mean,minmum,maximum exam_score is not effected by Internet_Access\n",
    "# so that there is no effect on exam_score  due to the Internet_Access."
   ]
  },
  {
   "cell_type": "code",
   "execution_count": 239,
   "id": "fdd93ee8-2b26-4b08-99c0-27ff7bf61c50",
   "metadata": {},
   "outputs": [
    {
     "data": {
      "image/png": "[encoded data removed]",
      "text/plain": [
       "<Figure size 511.111x500 with 1 Axes>"
      ]
     },
     "metadata": {},
     "output_type": "display_data"
    }
   ],
   "source": [
    "sns.catplot(x=\"Internet_Access\",y=\"Exam_Score\",data=df,kind=\"bar\")\n",
    "plt.show()"
   ]
  },
  {
   "cell_type": "code",
   "execution_count": null,
   "id": "170f602d-454b-4e2a-9bf4-147e0214a183",
   "metadata": {},
   "outputs": [],
   "source": []
  },
  {
   "cell_type": "code",
   "execution_count": 245,
   "id": "6760ed76-afb5-4c95-9c8b-548de324d731",
   "metadata": {},
   "outputs": [
    {
     "data": {
      "text/html": [
       "<div>\n",
       "<style scoped>\n",
       "    .dataframe tbody tr th:only-of-type {\n",
       "        vertical-align: middle;\n",
       "    }\n",
       "\n",
       "    .dataframe tbody tr th {\n",
       "        vertical-align: top;\n",
       "    }\n",
       "\n",
       "    .dataframe thead th {\n",
       "        text-align: right;\n",
       "    }\n",
       "</style>\n",
       "<table border=\"1\" class=\"dataframe\">\n",
       "  <thead>\n",
       "    <tr style=\"text-align: right;\">\n",
       "      <th></th>\n",
       "      <th>Tutoring_Sessions</th>\n",
       "      <th>Exam_Score</th>\n",
       "    </tr>\n",
       "  </thead>\n",
       "  <tbody>\n",
       "    <tr>\n",
       "      <th>Tutoring_Sessions</th>\n",
       "      <td>1.000000</td>\n",
       "      <td>0.156525</td>\n",
       "    </tr>\n",
       "    <tr>\n",
       "      <th>Exam_Score</th>\n",
       "      <td>0.156525</td>\n",
       "      <td>1.000000</td>\n",
       "    </tr>\n",
       "  </tbody>\n",
       "</table>\n",
       "</div>"
      ],
      "text/plain": [
       "                   Tutoring_Sessions  Exam_Score\n",
       "Tutoring_Sessions           1.000000    0.156525\n",
       "Exam_Score                  0.156525    1.000000"
      ]
     },
     "execution_count": 245,
     "metadata": {},
     "output_type": "execute_result"
    }
   ],
   "source": [
    "corr=df[[\"Tutoring_Sessions\",\"Exam_Score\"]].corr()\n",
    "corr\n"
   ]
  },
  {
   "cell_type": "code",
   "execution_count": 71,
   "id": "271d62f3-e5d0-4217-b25e-b78c1ef5133c",
   "metadata": {},
   "outputs": [
    {
     "data": {
      "image/png": "[encoded data removed]",
      "text/plain": [
       "<Figure size 640x480 with 2 Axes>"
      ]
     },
     "metadata": {},
     "output_type": "display_data"
    }
   ],
   "source": [
    "sns.heatmap(corr,annot=True)\n",
    "plt.title(\"Tutoring_Sessions & Exam_Score\")\n",
    "plt.savefig(\"Tutoring_SessionsExam_Score\")\n",
    "plt.show()"
   ]
  },
  {
   "cell_type": "code",
   "execution_count": null,
   "id": "5ad18500-01ac-4ca9-806b-194c7829d3e6",
   "metadata": {},
   "outputs": [],
   "source": [
    "# the correlation b/w Tutoring_Sessions and Exam_score is weak correlation \n",
    "# so that there is few effect on exam_score  due to the Tutoring_Sessions."
   ]
  },
  {
   "cell_type": "code",
   "execution_count": null,
   "id": "fed19075-c815-4e59-a32a-9fddcde0310e",
   "metadata": {},
   "outputs": [],
   "source": []
  },
  {
   "cell_type": "code",
   "execution_count": 251,
   "id": "89bd6ddc-8e4d-4770-8d48-d704b69d335e",
   "metadata": {},
   "outputs": [
    {
     "data": {
      "text/plain": [
       "Family_Income\n",
       "High      101\n",
       "Low        97\n",
       "Medium     99\n",
       "Name: Exam_Score, dtype: int64"
      ]
     },
     "execution_count": 251,
     "metadata": {},
     "output_type": "execute_result"
    }
   ],
   "source": [
    "df.groupby(\"Family_Income\")[\"Exam_Score\"].max()"
   ]
  },
  {
   "cell_type": "code",
   "execution_count": 275,
   "id": "1ef55206-111d-478d-9a60-4f8566d433d9",
   "metadata": {},
   "outputs": [
    {
     "data": {
      "text/plain": [
       "Family_Income\n",
       "High      58\n",
       "Low       55\n",
       "Medium    57\n",
       "Name: Exam_Score, dtype: int64"
      ]
     },
     "execution_count": 275,
     "metadata": {},
     "output_type": "execute_result"
    }
   ],
   "source": [
    "df.groupby(\"Family_Income\")[\"Exam_Score\"].min()"
   ]
  },
  {
   "cell_type": "code",
   "execution_count": 277,
   "id": "5aa4f34e-d730-46be-8ea1-a6022d345a1e",
   "metadata": {},
   "outputs": [
    {
     "data": {
      "text/plain": [
       "Family_Income\n",
       "High      67.842396\n",
       "Low       66.848428\n",
       "Medium    67.334959\n",
       "Name: Exam_Score, dtype: float64"
      ]
     },
     "execution_count": 277,
     "metadata": {},
     "output_type": "execute_result"
    }
   ],
   "source": [
    "df.groupby(\"Family_Income\")[\"Exam_Score\"].mean()"
   ]
  },
  {
   "cell_type": "code",
   "execution_count": null,
   "id": "15ee9092-f8a6-46c6-a4c8-b5c1e2a9b99b",
   "metadata": {},
   "outputs": [],
   "source": [
    "# the mean,minmum,maximum exam_score is not effected by Family_Income\n",
    "# so that there is no effect on exam_score  due to the Family_Income."
   ]
  },
  {
   "cell_type": "code",
   "execution_count": 279,
   "id": "8c80e2ed-a7c2-4f13-84cd-9bd4ddc4f2ec",
   "metadata": {},
   "outputs": [
    {
     "data": {
      "image/png": "[encoded data removed]",
      "text/plain": [
       "<Figure size 511.111x500 with 1 Axes>"
      ]
     },
     "metadata": {},
     "output_type": "display_data"
    }
   ],
   "source": [
    "sns.catplot(x=\"Family_Income\",y=\"Exam_Score\",data=df,kind=\"bar\")\n",
    "plt.show()"
   ]
  },
  {
   "cell_type": "code",
   "execution_count": null,
   "id": "482c05ed-f33b-4de9-931e-00a6530de2d4",
   "metadata": {},
   "outputs": [],
   "source": []
  },
  {
   "cell_type": "code",
   "execution_count": 259,
   "id": "332704ec-1bee-40b7-b714-710261ec1769",
   "metadata": {},
   "outputs": [
    {
     "data": {
      "text/plain": [
       "Teacher_Quality\n",
       "High      101\n",
       "Low        94\n",
       "Medium    100\n",
       "Name: Exam_Score, dtype: int64"
      ]
     },
     "execution_count": 259,
     "metadata": {},
     "output_type": "execute_result"
    }
   ],
   "source": [
    "df.groupby(\"Teacher_Quality\")[\"Exam_Score\"].max()"
   ]
  },
  {
   "cell_type": "code",
   "execution_count": 281,
   "id": "cf6a5791-38a6-4098-a924-3f84f92726fb",
   "metadata": {},
   "outputs": [
    {
     "data": {
      "text/plain": [
       "Teacher_Quality\n",
       "High      58\n",
       "Low       58\n",
       "Medium    55\n",
       "Name: Exam_Score, dtype: int64"
      ]
     },
     "execution_count": 281,
     "metadata": {},
     "output_type": "execute_result"
    }
   ],
   "source": [
    "df.groupby(\"Teacher_Quality\")[\"Exam_Score\"].min()"
   ]
  },
  {
   "cell_type": "code",
   "execution_count": 285,
   "id": "931e6a4d-8ec2-4567-b965-f6903d983aca",
   "metadata": {},
   "outputs": [
    {
     "data": {
      "text/plain": [
       "Teacher_Quality\n",
       "High      67.676939\n",
       "Low       66.753425\n",
       "Medium    67.109299\n",
       "Name: Exam_Score, dtype: float64"
      ]
     },
     "execution_count": 285,
     "metadata": {},
     "output_type": "execute_result"
    }
   ],
   "source": [
    "df.groupby(\"Teacher_Quality\")[\"Exam_Score\"].mean()"
   ]
  },
  {
   "cell_type": "code",
   "execution_count": 265,
   "id": "ba230f79-a818-429f-ba3e-6c1d704f0577",
   "metadata": {},
   "outputs": [],
   "source": [
    "# the mean,minmum,maximum exam_score is not effected by Teacher_Quality\n",
    "# so that there is no effect on exam_score  due to the Teacher_Quality"
   ]
  },
  {
   "cell_type": "code",
   "execution_count": 287,
   "id": "703d58c5-e2de-4a6f-9b05-56cdc33e6361",
   "metadata": {},
   "outputs": [
    {
     "data": {
      "image/png": "[encoded data removed]",
      "text/plain": [
       "<Figure size 511.111x500 with 1 Axes>"
      ]
     },
     "metadata": {},
     "output_type": "display_data"
    }
   ],
   "source": [
    "sns.catplot(x=\"Teacher_Quality\",y=\"Exam_Score\",data=df,kind=\"bar\")\n",
    "plt.show()"
   ]
  },
  {
   "cell_type": "code",
   "execution_count": null,
   "id": "d2c94cc8-6356-4f64-bd35-2bd910157fbe",
   "metadata": {},
   "outputs": [],
   "source": []
  },
  {
   "cell_type": "code",
   "execution_count": 269,
   "id": "54bda1ba-ddd5-4462-8d7d-8106e76abea5",
   "metadata": {},
   "outputs": [
    {
     "data": {
      "text/plain": [
       "School_Type\n",
       "Private    100\n",
       "Public     101\n",
       "Name: Exam_Score, dtype: int64"
      ]
     },
     "execution_count": 269,
     "metadata": {},
     "output_type": "execute_result"
    }
   ],
   "source": [
    "df.groupby(\"School_Type\")[\"Exam_Score\"].max()"
   ]
  },
  {
   "cell_type": "code",
   "execution_count": 289,
   "id": "2cc5bff0-380f-4381-bda5-6bd2b88af1a1",
   "metadata": {},
   "outputs": [
    {
     "data": {
      "text/plain": [
       "School_Type\n",
       "Private    56\n",
       "Public     55\n",
       "Name: Exam_Score, dtype: int64"
      ]
     },
     "execution_count": 289,
     "metadata": {},
     "output_type": "execute_result"
    }
   ],
   "source": [
    "df.groupby(\"School_Type\")[\"Exam_Score\"].min()"
   ]
  },
  {
   "cell_type": "code",
   "execution_count": 291,
   "id": "fb5bf4aa-8bdf-466b-a57f-443dd6a76974",
   "metadata": {},
   "outputs": [
    {
     "data": {
      "text/plain": [
       "School_Type\n",
       "Private    67.287705\n",
       "Public     67.212919\n",
       "Name: Exam_Score, dtype: float64"
      ]
     },
     "execution_count": 291,
     "metadata": {},
     "output_type": "execute_result"
    }
   ],
   "source": [
    "df.groupby(\"School_Type\")[\"Exam_Score\"].mean()"
   ]
  },
  {
   "cell_type": "code",
   "execution_count": null,
   "id": "c25e029a-cbc9-4dba-8527-2dacb93d3e93",
   "metadata": {},
   "outputs": [],
   "source": [
    "# the mean,minmum,maximum exam_score is not effected by School_Type\n",
    "# so that there is no effect on exam_score  due to the School_Type."
   ]
  },
  {
   "cell_type": "code",
   "execution_count": 293,
   "id": "0e1a6d27-5a23-495c-9699-de6d322574dd",
   "metadata": {},
   "outputs": [
    {
     "data": {
      "image/png": "[encoded data removed]",
      "text/plain": [
       "<Figure size 511.111x500 with 1 Axes>"
      ]
     },
     "metadata": {},
     "output_type": "display_data"
    }
   ],
   "source": [
    "sns.catplot(x=\"School_Type\",y=\"Exam_Score\",data=df,kind=\"bar\")\n",
    "plt.show()"
   ]
  },
  {
   "cell_type": "code",
   "execution_count": null,
   "id": "6bf18ffc-b095-439b-89f3-b7117c9767d5",
   "metadata": {},
   "outputs": [],
   "source": []
  },
  {
   "cell_type": "code",
   "execution_count": 295,
   "id": "74d2f587-dd3d-4344-8f85-d53f29951d87",
   "metadata": {},
   "outputs": [
    {
     "data": {
      "text/plain": [
       "Peer_Influence\n",
       "Negative     99\n",
       "Neutral      97\n",
       "Positive    101\n",
       "Name: Exam_Score, dtype: int64"
      ]
     },
     "execution_count": 295,
     "metadata": {},
     "output_type": "execute_result"
    }
   ],
   "source": [
    "df.groupby(\"Peer_Influence\")[\"Exam_Score\"].max()"
   ]
  },
  {
   "cell_type": "code",
   "execution_count": 297,
   "id": "ed531406-f0e2-4397-88ea-ed161df2bde8",
   "metadata": {},
   "outputs": [
    {
     "data": {
      "text/plain": [
       "Peer_Influence\n",
       "Negative    55\n",
       "Neutral     57\n",
       "Positive    57\n",
       "Name: Exam_Score, dtype: int64"
      ]
     },
     "execution_count": 297,
     "metadata": {},
     "output_type": "execute_result"
    }
   ],
   "source": [
    "df.groupby(\"Peer_Influence\")[\"Exam_Score\"].min()"
   ]
  },
  {
   "cell_type": "code",
   "execution_count": 299,
   "id": "48d81734-afd2-4547-9abb-95c78ef5cdac",
   "metadata": {},
   "outputs": [
    {
     "data": {
      "text/plain": [
       "Peer_Influence\n",
       "Negative    66.564270\n",
       "Neutral     67.197917\n",
       "Positive    67.623199\n",
       "Name: Exam_Score, dtype: float64"
      ]
     },
     "execution_count": 299,
     "metadata": {},
     "output_type": "execute_result"
    }
   ],
   "source": [
    "df.groupby(\"Peer_Influence\")[\"Exam_Score\"].mean()"
   ]
  },
  {
   "cell_type": "code",
   "execution_count": 301,
   "id": "c0c7ec82-2d40-42dd-b662-ff151a97073f",
   "metadata": {},
   "outputs": [],
   "source": [
    "# the mean,minmum,maximum exam_score is not effected by Peer_Influence\n",
    "# so that there is no effect on exam_score  due to the Peer_Influence"
   ]
  },
  {
   "cell_type": "code",
   "execution_count": 303,
   "id": "c512a441-48a8-44cc-9f74-79c26df2b5fb",
   "metadata": {},
   "outputs": [
    {
     "data": {
      "image/png": "[encoded data removed]",
      "text/plain": [
       "<Figure size 511.111x500 with 1 Axes>"
      ]
     },
     "metadata": {},
     "output_type": "display_data"
    }
   ],
   "source": [
    "sns.catplot(x=\"Peer_Influence\",y=\"Exam_Score\",data=df,kind=\"bar\")\n",
    "plt.show()"
   ]
  },
  {
   "cell_type": "code",
   "execution_count": null,
   "id": "c23c46ea-dbd5-4f1b-b72b-c909722445fa",
   "metadata": {},
   "outputs": [],
   "source": []
  },
  {
   "cell_type": "code",
   "execution_count": 305,
   "id": "9a9fd378-7fae-4e6b-b2d0-ba1286ff6638",
   "metadata": {},
   "outputs": [
    {
     "data": {
      "text/html": [
       "<div>\n",
       "<style scoped>\n",
       "    .dataframe tbody tr th:only-of-type {\n",
       "        vertical-align: middle;\n",
       "    }\n",
       "\n",
       "    .dataframe tbody tr th {\n",
       "        vertical-align: top;\n",
       "    }\n",
       "\n",
       "    .dataframe thead th {\n",
       "        text-align: right;\n",
       "    }\n",
       "</style>\n",
       "<table border=\"1\" class=\"dataframe\">\n",
       "  <thead>\n",
       "    <tr style=\"text-align: right;\">\n",
       "      <th></th>\n",
       "      <th>Studied_Hours</th>\n",
       "      <th>Attendance</th>\n",
       "      <th>Parental_Involvement</th>\n",
       "      <th>Access_to_Resources</th>\n",
       "      <th>Extracurricular_Activities</th>\n",
       "      <th>Sleep_Hours</th>\n",
       "      <th>Previous_Scores</th>\n",
       "      <th>Motivation_Level</th>\n",
       "      <th>Internet_Access</th>\n",
       "      <th>Tutoring_Sessions</th>\n",
       "      <th>Family_Income</th>\n",
       "      <th>Teacher_Quality</th>\n",
       "      <th>School_Type</th>\n",
       "      <th>Peer_Influence</th>\n",
       "      <th>Physical_Activity</th>\n",
       "      <th>Learning_Disabilities</th>\n",
       "      <th>Parental_Education_Level</th>\n",
       "      <th>Distance_from_Home</th>\n",
       "      <th>Gender</th>\n",
       "      <th>Exam_Score</th>\n",
       "    </tr>\n",
       "  </thead>\n",
       "  <tbody>\n",
       "    <tr>\n",
       "      <th>0</th>\n",
       "      <td>23</td>\n",
       "      <td>84</td>\n",
       "      <td>Low</td>\n",
       "      <td>High</td>\n",
       "      <td>No</td>\n",
       "      <td>7</td>\n",
       "      <td>73</td>\n",
       "      <td>Low</td>\n",
       "      <td>Yes</td>\n",
       "      <td>0</td>\n",
       "      <td>Low</td>\n",
       "      <td>Medium</td>\n",
       "      <td>Public</td>\n",
       "      <td>Positive</td>\n",
       "      <td>3</td>\n",
       "      <td>No</td>\n",
       "      <td>High School</td>\n",
       "      <td>Near</td>\n",
       "      <td>Male</td>\n",
       "      <td>67</td>\n",
       "    </tr>\n",
       "    <tr>\n",
       "      <th>1</th>\n",
       "      <td>19</td>\n",
       "      <td>64</td>\n",
       "      <td>Low</td>\n",
       "      <td>Medium</td>\n",
       "      <td>No</td>\n",
       "      <td>8</td>\n",
       "      <td>59</td>\n",
       "      <td>Low</td>\n",
       "      <td>Yes</td>\n",
       "      <td>2</td>\n",
       "      <td>Medium</td>\n",
       "      <td>Medium</td>\n",
       "      <td>Public</td>\n",
       "      <td>Negative</td>\n",
       "      <td>4</td>\n",
       "      <td>No</td>\n",
       "      <td>College</td>\n",
       "      <td>Moderate</td>\n",
       "      <td>Female</td>\n",
       "      <td>61</td>\n",
       "    </tr>\n",
       "  </tbody>\n",
       "</table>\n",
       "</div>"
      ],
      "text/plain": [
       "   Studied_Hours  Attendance Parental_Involvement Access_to_Resources  \\\n",
       "0             23          84                  Low                High   \n",
       "1             19          64                  Low              Medium   \n",
       "\n",
       "  Extracurricular_Activities  Sleep_Hours  Previous_Scores Motivation_Level  \\\n",
       "0                         No            7               73              Low   \n",
       "1                         No            8               59              Low   \n",
       "\n",
       "  Internet_Access  Tutoring_Sessions Family_Income Teacher_Quality  \\\n",
       "0             Yes                  0           Low          Medium   \n",
       "1             Yes                  2        Medium          Medium   \n",
       "\n",
       "  School_Type Peer_Influence  Physical_Activity Learning_Disabilities  \\\n",
       "0      Public       Positive                  3                    No   \n",
       "1      Public       Negative                  4                    No   \n",
       "\n",
       "  Parental_Education_Level Distance_from_Home  Gender  Exam_Score  \n",
       "0              High School               Near    Male          67  \n",
       "1                  College           Moderate  Female          61  "
      ]
     },
     "execution_count": 305,
     "metadata": {},
     "output_type": "execute_result"
    }
   ],
   "source": [
    "df.head(2)"
   ]
  },
  {
   "cell_type": "code",
   "execution_count": 309,
   "id": "f524abfd-0277-4ad1-b606-13a02db4ec2f",
   "metadata": {},
   "outputs": [
    {
     "data": {
      "text/html": [
       "<div>\n",
       "<style scoped>\n",
       "    .dataframe tbody tr th:only-of-type {\n",
       "        vertical-align: middle;\n",
       "    }\n",
       "\n",
       "    .dataframe tbody tr th {\n",
       "        vertical-align: top;\n",
       "    }\n",
       "\n",
       "    .dataframe thead th {\n",
       "        text-align: right;\n",
       "    }\n",
       "</style>\n",
       "<table border=\"1\" class=\"dataframe\">\n",
       "  <thead>\n",
       "    <tr style=\"text-align: right;\">\n",
       "      <th></th>\n",
       "      <th>Physical_Activity</th>\n",
       "      <th>Exam_Score</th>\n",
       "    </tr>\n",
       "  </thead>\n",
       "  <tbody>\n",
       "    <tr>\n",
       "      <th>Physical_Activity</th>\n",
       "      <td>1.000000</td>\n",
       "      <td>0.027824</td>\n",
       "    </tr>\n",
       "    <tr>\n",
       "      <th>Exam_Score</th>\n",
       "      <td>0.027824</td>\n",
       "      <td>1.000000</td>\n",
       "    </tr>\n",
       "  </tbody>\n",
       "</table>\n",
       "</div>"
      ],
      "text/plain": [
       "                   Physical_Activity  Exam_Score\n",
       "Physical_Activity           1.000000    0.027824\n",
       "Exam_Score                  0.027824    1.000000"
      ]
     },
     "execution_count": 309,
     "metadata": {},
     "output_type": "execute_result"
    }
   ],
   "source": [
    "corr=df[[\"Physical_Activity\",\"Exam_Score\"]].corr()\n",
    "corr"
   ]
  },
  {
   "cell_type": "code",
   "execution_count": 311,
   "id": "26061f2f-4867-483b-b567-b8273bd62ebe",
   "metadata": {},
   "outputs": [
    {
     "data": {
      "text/plain": [
       "<Axes: >"
      ]
     },
     "execution_count": 311,
     "metadata": {},
     "output_type": "execute_result"
    },
    {
     "data": {
      "image/png": "[encoded data removed]",
      "text/plain": [
       "<Figure size 640x480 with 2 Axes>"
      ]
     },
     "metadata": {},
     "output_type": "display_data"
    }
   ],
   "source": [
    "sns.heatmap(corr,annot=True)"
   ]
  },
  {
   "cell_type": "code",
   "execution_count": null,
   "id": "f1e9cb0f-1033-4ff8-b48a-75a7cc23d558",
   "metadata": {},
   "outputs": [],
   "source": [
    "# the correlation b/w Physical_Activity and Exam_score is weak correlation \n",
    "# so that there is few effect on exam_score  due to the Physical_Activity."
   ]
  },
  {
   "cell_type": "code",
   "execution_count": null,
   "id": "e2816a6e-d75b-4590-a08f-f76670bdd9d0",
   "metadata": {},
   "outputs": [],
   "source": []
  },
  {
   "cell_type": "code",
   "execution_count": 313,
   "id": "11c3fa1e-4db4-4271-b7c4-84f9851798b7",
   "metadata": {},
   "outputs": [
    {
     "data": {
      "text/plain": [
       "Learning_Disabilities\n",
       "No     101\n",
       "Yes     89\n",
       "Name: Exam_Score, dtype: int64"
      ]
     },
     "execution_count": 313,
     "metadata": {},
     "output_type": "execute_result"
    }
   ],
   "source": [
    "df.groupby(\"Learning_Disabilities\")[\"Exam_Score\"].max()"
   ]
  },
  {
   "cell_type": "code",
   "execution_count": 315,
   "id": "680dbc4d-a50e-4486-8f7d-c30b3ed6a769",
   "metadata": {},
   "outputs": [
    {
     "data": {
      "text/plain": [
       "Learning_Disabilities\n",
       "No     55\n",
       "Yes    57\n",
       "Name: Exam_Score, dtype: int64"
      ]
     },
     "execution_count": 315,
     "metadata": {},
     "output_type": "execute_result"
    }
   ],
   "source": [
    "df.groupby(\"Learning_Disabilities\")[\"Exam_Score\"].min()"
   ]
  },
  {
   "cell_type": "code",
   "execution_count": 317,
   "id": "c29504cd-d7d5-4417-a3d2-cc2c1dc269e7",
   "metadata": {},
   "outputs": [
    {
     "data": {
      "text/plain": [
       "Learning_Disabilities\n",
       "No     67.349120\n",
       "Yes    66.270504\n",
       "Name: Exam_Score, dtype: float64"
      ]
     },
     "execution_count": 317,
     "metadata": {},
     "output_type": "execute_result"
    }
   ],
   "source": [
    "df.groupby(\"Learning_Disabilities\")[\"Exam_Score\"].mean()"
   ]
  },
  {
   "cell_type": "code",
   "execution_count": null,
   "id": "076b1ddf-131b-4464-8b81-3d22efb81748",
   "metadata": {},
   "outputs": [],
   "source": [
    "# the mean,minmum,maximum exam_score is not effected by Learning_Disabilities\n",
    "# so that there is no effect on exam_score  due to the Learning_Disabilities"
   ]
  },
  {
   "cell_type": "code",
   "execution_count": 319,
   "id": "52bf49fc-2e36-436b-9e3b-cf9081d44838",
   "metadata": {},
   "outputs": [
    {
     "data": {
      "image/png": "[encoded data removed]",
      "text/plain": [
       "<Figure size 511.111x500 with 1 Axes>"
      ]
     },
     "metadata": {},
     "output_type": "display_data"
    }
   ],
   "source": [
    "sns.catplot(x=\"Learning_Disabilities\",y=\"Exam_Score\",data=df,kind=\"bar\")\n",
    "plt.show()"
   ]
  },
  {
   "cell_type": "code",
   "execution_count": null,
   "id": "026345e3-24f0-48ac-b6cb-d9e54aa683ba",
   "metadata": {},
   "outputs": [],
   "source": []
  },
  {
   "cell_type": "code",
   "execution_count": 321,
   "id": "36c09084-13d3-4ceb-8224-68385f7d398b",
   "metadata": {},
   "outputs": [
    {
     "data": {
      "text/plain": [
       "Parental_Education_Level\n",
       "College         100\n",
       "High School     101\n",
       "Postgraduate     98\n",
       "Name: Exam_Score, dtype: int64"
      ]
     },
     "execution_count": 321,
     "metadata": {},
     "output_type": "execute_result"
    }
   ],
   "source": [
    "df.groupby(\"Parental_Education_Level\")[\"Exam_Score\"].max()"
   ]
  },
  {
   "cell_type": "code",
   "execution_count": 323,
   "id": "0f0ed215-36bf-4990-bb65-c11c4205570b",
   "metadata": {},
   "outputs": [
    {
     "data": {
      "text/plain": [
       "Parental_Education_Level\n",
       "College         56\n",
       "High School     55\n",
       "Postgraduate    57\n",
       "Name: Exam_Score, dtype: int64"
      ]
     },
     "execution_count": 323,
     "metadata": {},
     "output_type": "execute_result"
    }
   ],
   "source": [
    "df.groupby(\"Parental_Education_Level\")[\"Exam_Score\"].min()"
   ]
  },
  {
   "cell_type": "code",
   "execution_count": 325,
   "id": "9d613ce7-fdd8-4bd5-b77a-726a34e1ca56",
   "metadata": {},
   "outputs": [
    {
     "data": {
      "text/plain": [
       "Parental_Education_Level\n",
       "College         67.315737\n",
       "High School     66.893577\n",
       "Postgraduate    67.970881\n",
       "Name: Exam_Score, dtype: float64"
      ]
     },
     "execution_count": 325,
     "metadata": {},
     "output_type": "execute_result"
    }
   ],
   "source": [
    "df.groupby(\"Parental_Education_Level\")[\"Exam_Score\"].mean()"
   ]
  },
  {
   "cell_type": "code",
   "execution_count": null,
   "id": "806c5627-0d20-4454-8f4e-0a79b75df29d",
   "metadata": {},
   "outputs": [],
   "source": [
    "# the mean,minmum,maximum exam_score is not effected by Parental_Education_Level\n",
    "# so that there is no effect on exam_score  due to the Parental_Education_Level"
   ]
  },
  {
   "cell_type": "code",
   "execution_count": 327,
   "id": "ac6aa782-525c-46d0-9285-bd6231fc96c0",
   "metadata": {},
   "outputs": [
    {
     "data": {
      "image/png": "[encoded data removed]",
      "text/plain": [
       "<Figure size 511.111x500 with 1 Axes>"
      ]
     },
     "metadata": {},
     "output_type": "display_data"
    }
   ],
   "source": [
    "sns.catplot(x=\"Parental_Education_Level\",y=\"Exam_Score\",data=df,kind=\"bar\")\n",
    "plt.show()"
   ]
  },
  {
   "cell_type": "code",
   "execution_count": null,
   "id": "599683da-08b6-477e-9f22-841acb860237",
   "metadata": {},
   "outputs": [],
   "source": []
  },
  {
   "cell_type": "code",
   "execution_count": 329,
   "id": "b7058f83-5a7b-428d-8c28-7471e6e4a05a",
   "metadata": {},
   "outputs": [
    {
     "data": {
      "text/plain": [
       "Distance_from_Home\n",
       "Far         56\n",
       "Moderate    57\n",
       "Near        55\n",
       "Name: Exam_Score, dtype: int64"
      ]
     },
     "execution_count": 329,
     "metadata": {},
     "output_type": "execute_result"
    }
   ],
   "source": [
    "df.groupby(\"Distance_from_Home\")[\"Exam_Score\"].min()"
   ]
  },
  {
   "cell_type": "code",
   "execution_count": 331,
   "id": "a8b37985-758a-44ed-9d0c-9c0eb9fecb07",
   "metadata": {},
   "outputs": [
    {
     "data": {
      "text/plain": [
       "Distance_from_Home\n",
       "Far          99\n",
       "Moderate    101\n",
       "Near        100\n",
       "Name: Exam_Score, dtype: int64"
      ]
     },
     "execution_count": 331,
     "metadata": {},
     "output_type": "execute_result"
    }
   ],
   "source": [
    "df.groupby(\"Distance_from_Home\")[\"Exam_Score\"].max()"
   ]
  },
  {
   "cell_type": "code",
   "execution_count": 333,
   "id": "544894b7-af8d-4d9e-91b5-56f816073b22",
   "metadata": {},
   "outputs": [
    {
     "data": {
      "text/plain": [
       "Distance_from_Home\n",
       "Far         66.457447\n",
       "Moderate    66.981481\n",
       "Near        67.512101\n",
       "Name: Exam_Score, dtype: float64"
      ]
     },
     "execution_count": 333,
     "metadata": {},
     "output_type": "execute_result"
    }
   ],
   "source": [
    "df.groupby(\"Distance_from_Home\")[\"Exam_Score\"].mean()"
   ]
  },
  {
   "cell_type": "code",
   "execution_count": null,
   "id": "87ec5859-22f1-46c8-b014-658947441a01",
   "metadata": {},
   "outputs": [],
   "source": [
    "# the mean,minmum,maximum exam_score is not effected by Distance_from_Home\n",
    "# so that there is no effect on exam_score  due to the Distance_from_Home"
   ]
  },
  {
   "cell_type": "code",
   "execution_count": 335,
   "id": "8f4117a6-52a7-42b4-b64b-0ab23132cb1b",
   "metadata": {},
   "outputs": [
    {
     "data": {
      "image/png": "[encoded data removed]",
      "text/plain": [
       "<Figure size 511.111x500 with 1 Axes>"
      ]
     },
     "metadata": {},
     "output_type": "display_data"
    }
   ],
   "source": [
    "sns.catplot(x=\"Distance_from_Home\",y=\"Exam_Score\",data=df,kind=\"bar\")\n",
    "plt.show()"
   ]
  },
  {
   "cell_type": "code",
   "execution_count": null,
   "id": "cc986bff-e3b4-44f2-affd-5842464cf182",
   "metadata": {},
   "outputs": [],
   "source": []
  },
  {
   "cell_type": "code",
   "execution_count": 337,
   "id": "b9b1a133-d3a7-4b6d-ac74-b813eb2ef883",
   "metadata": {},
   "outputs": [
    {
     "data": {
      "text/plain": [
       "Gender\n",
       "Female    101\n",
       "Male       99\n",
       "Name: Exam_Score, dtype: int64"
      ]
     },
     "execution_count": 337,
     "metadata": {},
     "output_type": "execute_result"
    }
   ],
   "source": [
    "df.groupby(\"Gender\")[\"Exam_Score\"].max()"
   ]
  },
  {
   "cell_type": "code",
   "execution_count": 339,
   "id": "6a57e4d4-15b9-4c8d-bf61-6bf784dc2345",
   "metadata": {},
   "outputs": [
    {
     "data": {
      "text/plain": [
       "Gender\n",
       "Female    57\n",
       "Male      55\n",
       "Name: Exam_Score, dtype: int64"
      ]
     },
     "execution_count": 339,
     "metadata": {},
     "output_type": "execute_result"
    }
   ],
   "source": [
    "df.groupby(\"Gender\")[\"Exam_Score\"].min()"
   ]
  },
  {
   "cell_type": "code",
   "execution_count": 341,
   "id": "3e6b21b8-8458-48f3-be49-b262403fc59e",
   "metadata": {},
   "outputs": [
    {
     "data": {
      "text/plain": [
       "Gender\n",
       "Female    67.244898\n",
       "Male      67.228894\n",
       "Name: Exam_Score, dtype: float64"
      ]
     },
     "execution_count": 341,
     "metadata": {},
     "output_type": "execute_result"
    }
   ],
   "source": [
    "df.groupby(\"Gender\")[\"Exam_Score\"].mean()"
   ]
  },
  {
   "cell_type": "code",
   "execution_count": null,
   "id": "0fea23b0-92a9-4d3e-a5c6-2ed47bf72740",
   "metadata": {},
   "outputs": [],
   "source": [
    "# the mean,minmum,maximum exam_score is not effected by gender\n",
    "# so that there is no effect on exam_score  due to the gender"
   ]
  },
  {
   "cell_type": "code",
   "execution_count": 361,
   "id": "d3c7e56b-7b5a-4d7f-9c3e-2794e1117b28",
   "metadata": {},
   "outputs": [
    {
     "data": {
      "image/png": "[encoded data removed]",
      "text/plain": [
       "<Figure size 640x480 with 1 Axes>"
      ]
     },
     "metadata": {},
     "output_type": "display_data"
    }
   ],
   "source": [
    "plt.pie(df[\"Gender\"].value_counts(),labels=[\"M\",\"F\"],autopct=\"%0.1f%%\")\n",
    "plt.show()"
   ]
  },
  {
   "cell_type": "code",
   "execution_count": 343,
   "id": "b355a17e-e36a-475e-a193-8d458fefe777",
   "metadata": {},
   "outputs": [
    {
     "data": {
      "image/png": "[encoded data removed]",
      "text/plain": [
       "<Figure size 511.111x500 with 1 Axes>"
      ]
     },
     "metadata": {},
     "output_type": "display_data"
    }
   ],
   "source": [
    "sns.catplot(x=\"Gender\",y=\"Exam_Score\",data=df,kind=\"bar\")\n",
    "plt.show()"
   ]
  },
  {
   "cell_type": "code",
   "execution_count": 51,
   "id": "380ad823-bf49-4f05-956b-b9de19355f98",
   "metadata": {},
   "outputs": [
    {
     "data": {
      "text/html": [
       "<div>\n",
       "<style scoped>\n",
       "    .dataframe tbody tr th:only-of-type {\n",
       "        vertical-align: middle;\n",
       "    }\n",
       "\n",
       "    .dataframe tbody tr th {\n",
       "        vertical-align: top;\n",
       "    }\n",
       "\n",
       "    .dataframe thead th {\n",
       "        text-align: right;\n",
       "    }\n",
       "</style>\n",
       "<table border=\"1\" class=\"dataframe\">\n",
       "  <thead>\n",
       "    <tr style=\"text-align: right;\">\n",
       "      <th></th>\n",
       "      <th>Studied_Hours</th>\n",
       "      <th>Attendance</th>\n",
       "      <th>Parental_Involvement</th>\n",
       "      <th>Access_to_Resources</th>\n",
       "      <th>Extracurricular_Activities</th>\n",
       "      <th>Sleep_Hours</th>\n",
       "      <th>Previous_Scores</th>\n",
       "      <th>Motivation_Level</th>\n",
       "      <th>Internet_Access</th>\n",
       "      <th>Tutoring_Sessions</th>\n",
       "      <th>Family_Income</th>\n",
       "      <th>Teacher_Quality</th>\n",
       "      <th>School_Type</th>\n",
       "      <th>Peer_Influence</th>\n",
       "      <th>Physical_Activity</th>\n",
       "      <th>Learning_Disabilities</th>\n",
       "      <th>Parental_Education_Level</th>\n",
       "      <th>Distance_from_Home</th>\n",
       "      <th>Gender</th>\n",
       "      <th>Exam_Score</th>\n",
       "    </tr>\n",
       "  </thead>\n",
       "  <tbody>\n",
       "    <tr>\n",
       "      <th>0</th>\n",
       "      <td>23</td>\n",
       "      <td>84</td>\n",
       "      <td>Low</td>\n",
       "      <td>High</td>\n",
       "      <td>No</td>\n",
       "      <td>7</td>\n",
       "      <td>73</td>\n",
       "      <td>Low</td>\n",
       "      <td>Yes</td>\n",
       "      <td>0</td>\n",
       "      <td>Low</td>\n",
       "      <td>Medium</td>\n",
       "      <td>Public</td>\n",
       "      <td>Positive</td>\n",
       "      <td>3</td>\n",
       "      <td>No</td>\n",
       "      <td>High School</td>\n",
       "      <td>Near</td>\n",
       "      <td>Male</td>\n",
       "      <td>67</td>\n",
       "    </tr>\n",
       "  </tbody>\n",
       "</table>\n",
       "</div>"
      ],
      "text/plain": [
       "   Studied_Hours  Attendance Parental_Involvement Access_to_Resources  \\\n",
       "0             23          84                  Low                High   \n",
       "\n",
       "  Extracurricular_Activities  Sleep_Hours  Previous_Scores Motivation_Level  \\\n",
       "0                         No            7               73              Low   \n",
       "\n",
       "  Internet_Access  Tutoring_Sessions Family_Income Teacher_Quality  \\\n",
       "0             Yes                  0           Low          Medium   \n",
       "\n",
       "  School_Type Peer_Influence  Physical_Activity Learning_Disabilities  \\\n",
       "0      Public       Positive                  3                    No   \n",
       "\n",
       "  Parental_Education_Level Distance_from_Home Gender  Exam_Score  \n",
       "0              High School               Near   Male          67  "
      ]
     },
     "execution_count": 51,
     "metadata": {},
     "output_type": "execute_result"
    }
   ],
   "source": [
    "df.head(1)"
   ]
  },
  {
   "cell_type": "code",
   "execution_count": 23,
   "id": "1fbaa308-5df5-4c52-9541-de2164422f9d",
   "metadata": {},
   "outputs": [],
   "source": [
    "non_effected_columns=[\"Parental_Involvement\",\"Access_to_Resources\",\"Extracurricular_Activities\",\n",
    "                    \"Previous_Scores\",\"Motivation_Level\",\"Internet_Access\",\"Family_Income\",\n",
    "                     \"Teacher_Quality\",\"School_Type\",\"Peer_Influence\",\"Physical_Activity\",\n",
    "                     \"Learning_Disabilities\",\"Parental_Education_Level\",\"Distance_from_Home\",\"Gender\"]"
   ]
  },
  {
   "cell_type": "code",
   "execution_count": 9,
   "id": "6ac0cd1f-446b-44e5-bf12-2a2827218319",
   "metadata": {},
   "outputs": [
    {
     "data": {
      "text/html": [
       "<div>\n",
       "<style scoped>\n",
       "    .dataframe tbody tr th:only-of-type {\n",
       "        vertical-align: middle;\n",
       "    }\n",
       "\n",
       "    .dataframe tbody tr th {\n",
       "        vertical-align: top;\n",
       "    }\n",
       "\n",
       "    .dataframe thead th {\n",
       "        text-align: right;\n",
       "    }\n",
       "</style>\n",
       "<table border=\"1\" class=\"dataframe\">\n",
       "  <thead>\n",
       "    <tr style=\"text-align: right;\">\n",
       "      <th></th>\n",
       "      <th>Studied_Hours</th>\n",
       "      <th>Attendance</th>\n",
       "      <th>Sleep_Hours</th>\n",
       "      <th>Tutoring_Sessions</th>\n",
       "      <th>Exam_Score</th>\n",
       "    </tr>\n",
       "  </thead>\n",
       "  <tbody>\n",
       "    <tr>\n",
       "      <th>Studied_Hours</th>\n",
       "      <td>1.000000</td>\n",
       "      <td>-0.009908</td>\n",
       "      <td>0.010977</td>\n",
       "      <td>-0.014282</td>\n",
       "      <td>0.445455</td>\n",
       "    </tr>\n",
       "    <tr>\n",
       "      <th>Attendance</th>\n",
       "      <td>-0.009908</td>\n",
       "      <td>1.000000</td>\n",
       "      <td>-0.015918</td>\n",
       "      <td>0.014324</td>\n",
       "      <td>0.581072</td>\n",
       "    </tr>\n",
       "    <tr>\n",
       "      <th>Sleep_Hours</th>\n",
       "      <td>0.010977</td>\n",
       "      <td>-0.015918</td>\n",
       "      <td>1.000000</td>\n",
       "      <td>-0.012216</td>\n",
       "      <td>-0.017022</td>\n",
       "    </tr>\n",
       "    <tr>\n",
       "      <th>Tutoring_Sessions</th>\n",
       "      <td>-0.014282</td>\n",
       "      <td>0.014324</td>\n",
       "      <td>-0.012216</td>\n",
       "      <td>1.000000</td>\n",
       "      <td>0.156525</td>\n",
       "    </tr>\n",
       "    <tr>\n",
       "      <th>Exam_Score</th>\n",
       "      <td>0.445455</td>\n",
       "      <td>0.581072</td>\n",
       "      <td>-0.017022</td>\n",
       "      <td>0.156525</td>\n",
       "      <td>1.000000</td>\n",
       "    </tr>\n",
       "  </tbody>\n",
       "</table>\n",
       "</div>"
      ],
      "text/plain": [
       "                   Studied_Hours  Attendance  Sleep_Hours  Tutoring_Sessions  \\\n",
       "Studied_Hours           1.000000   -0.009908     0.010977          -0.014282   \n",
       "Attendance             -0.009908    1.000000    -0.015918           0.014324   \n",
       "Sleep_Hours             0.010977   -0.015918     1.000000          -0.012216   \n",
       "Tutoring_Sessions      -0.014282    0.014324    -0.012216           1.000000   \n",
       "Exam_Score              0.445455    0.581072    -0.017022           0.156525   \n",
       "\n",
       "                   Exam_Score  \n",
       "Studied_Hours        0.445455  \n",
       "Attendance           0.581072  \n",
       "Sleep_Hours         -0.017022  \n",
       "Tutoring_Sessions    0.156525  \n",
       "Exam_Score           1.000000  "
      ]
     },
     "execution_count": 9,
     "metadata": {},
     "output_type": "execute_result"
    }
   ],
   "source": [
    "moderate_effected_columns=df[[\"Studied_Hours\",\"Attendance\",\"Sleep_Hours\",\"Tutoring_Sessions\",\"Exam_Score\"]].corr()\n",
    "moderate_effected_columns"
   ]
  },
  {
   "cell_type": "code",
   "execution_count": 27,
   "id": "940afce1-ad23-47d5-986c-d7159abc3859",
   "metadata": {},
   "outputs": [
    {
     "data": {
      "image/png": "[encoded data removed]",
      "text/plain": [
       "<Figure size 640x480 with 2 Axes>"
      ]
     },
     "metadata": {},
     "output_type": "display_data"
    }
   ],
   "source": [
    "sns.heatmap(moderate_effected_columns,annot=True)\n",
    "plt.savefig(\"StudiedAttendanceSleepTutoringExam\")\n",
    "plt.show()"
   ]
  },
  {
   "cell_type": "code",
   "execution_count": null,
   "id": "9c301add-020a-484b-baa5-b625ccf95848",
   "metadata": {},
   "outputs": [],
   "source": [
    "#    Moderately influential factors for better exam scores are:\n",
    "\n",
    "#           Attendance (most impactful)\n",
    "#           Studied_Hours\n",
    "\n",
    "#    Less influential factors:\n",
    "\n",
    "#            Tutoring_Sessions (minor effect)\n",
    "\n",
    "#   No significant effect:\n",
    "\n",
    "#            Sleep_Hours"
   ]
  },
  {
   "cell_type": "code",
   "execution_count": 11,
   "id": "d798e77c-2d13-467b-9c4a-9a69a7070117",
   "metadata": {},
   "outputs": [
    {
     "data": {
      "image/png": "[encoded data removed]",
      "text/plain": [
       "<Figure size 640x480 with 2 Axes>"
      ]
     },
     "metadata": {},
     "output_type": "display_data"
    }
   ],
   "source": [
    "sns.heatmap(moderate_effected_columns,annot=True)\n",
    "plt.xticks(rotation=15)   # Rotate x-axis tick labels\n",
    "plt.yticks(rotation=75)\n",
    "plt.savefig(\"StudiedAttendanceSleepTutoringExam\")\n",
    "plt.show()"
   ]
  },
  {
   "cell_type": "code",
   "execution_count": null,
   "id": "50c837a3-afd0-47fa-aea4-94197c2750e6",
   "metadata": {},
   "outputs": [],
   "source": []
  }
 ],
 "metadata": {
  "kernelspec": {
   "display_name": "Python 3 (ipykernel)",
   "language": "python",
   "name": "python3"
  },
  "language_info": {
   "codemirror_mode": {
    "name": "ipython",
    "version": 3
   },
   "file_extension": ".py",
   "mimetype": "text/x-python",
   "name": "python",
   "nbconvert_exporter": "python",
   "pygments_lexer": "ipython3",
   "version": "3.12.7"
  }
 },
 "nbformat": 4,
 "nbformat_minor": 5
}
